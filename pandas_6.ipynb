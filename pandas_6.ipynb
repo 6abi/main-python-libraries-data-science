{
 "cells": [
  {
   "cell_type": "code",
   "execution_count": 14,
   "outputs": [],
   "source": [
    "import pandas as pd"
   ],
   "metadata": {
    "collapsed": false,
    "pycharm": {
     "name": "#%%\n"
    }
   }
  },
  {
   "cell_type": "markdown",
   "source": [
    "Filtrando por um valor"
   ],
   "metadata": {
    "collapsed": false
   }
  },
  {
   "cell_type": "code",
   "execution_count": 14,
   "outputs": [],
   "source": [],
   "metadata": {
    "collapsed": false,
    "pycharm": {
     "name": "#%%\n"
    }
   }
  },
  {
   "cell_type": "code",
   "execution_count": 15,
   "outputs": [
    {
     "data": {
      "text/plain": "              Tipo               Bairro  Quartos  Vagas  Suites  Area   Valor  \\\n0      Apartamento               Centro        1      0       0    15   800.0   \n1      Apartamento         Higienópolis        1      0       0    48   800.0   \n2      Apartamento             Cachambi        2      0       0    50  1300.0   \n3      Apartamento               Grajaú        2      1       0    70  1500.0   \n4      Apartamento  Lins de Vasconcelos        3      1       1    90  1500.0   \n...            ...                  ...      ...    ...     ...   ...     ...   \n19826    Quitinete               Glória        1      0       0    10   400.0   \n19827    Quitinete             Flamengo        1      0       0    23   900.0   \n19828    Quitinete               Centro        1      0       0    24  1100.0   \n19829    Quitinete           Copacabana        1      0       0    22  1500.0   \n19830    Quitinete               Centro        0      0       0    27   800.0   \n\n       Condominio   IPTU  Valor m2 Tipo Agregado  \n0           390.0   20.0     53.33   Apartamento  \n1           230.0    0.0     16.67   Apartamento  \n2           301.0   17.0     26.00   Apartamento  \n3           642.0   74.0     21.43   Apartamento  \n4           455.0   14.0     16.67   Apartamento  \n...           ...    ...       ...           ...  \n19826       107.0   10.0     40.00   Apartamento  \n19827       605.0    0.0     39.13   Apartamento  \n19828       323.0    0.0     45.83   Apartamento  \n19829       286.0  200.0     68.18   Apartamento  \n19830       350.0   25.0     29.63   Apartamento  \n\n[19831 rows x 11 columns]",
      "text/html": "<div>\n<style scoped>\n    .dataframe tbody tr th:only-of-type {\n        vertical-align: middle;\n    }\n\n    .dataframe tbody tr th {\n        vertical-align: top;\n    }\n\n    .dataframe thead th {\n        text-align: right;\n    }\n</style>\n<table border=\"1\" class=\"dataframe\">\n  <thead>\n    <tr style=\"text-align: right;\">\n      <th></th>\n      <th>Tipo</th>\n      <th>Bairro</th>\n      <th>Quartos</th>\n      <th>Vagas</th>\n      <th>Suites</th>\n      <th>Area</th>\n      <th>Valor</th>\n      <th>Condominio</th>\n      <th>IPTU</th>\n      <th>Valor m2</th>\n      <th>Tipo Agregado</th>\n    </tr>\n  </thead>\n  <tbody>\n    <tr>\n      <th>0</th>\n      <td>Apartamento</td>\n      <td>Centro</td>\n      <td>1</td>\n      <td>0</td>\n      <td>0</td>\n      <td>15</td>\n      <td>800.0</td>\n      <td>390.0</td>\n      <td>20.0</td>\n      <td>53.33</td>\n      <td>Apartamento</td>\n    </tr>\n    <tr>\n      <th>1</th>\n      <td>Apartamento</td>\n      <td>Higienópolis</td>\n      <td>1</td>\n      <td>0</td>\n      <td>0</td>\n      <td>48</td>\n      <td>800.0</td>\n      <td>230.0</td>\n      <td>0.0</td>\n      <td>16.67</td>\n      <td>Apartamento</td>\n    </tr>\n    <tr>\n      <th>2</th>\n      <td>Apartamento</td>\n      <td>Cachambi</td>\n      <td>2</td>\n      <td>0</td>\n      <td>0</td>\n      <td>50</td>\n      <td>1300.0</td>\n      <td>301.0</td>\n      <td>17.0</td>\n      <td>26.00</td>\n      <td>Apartamento</td>\n    </tr>\n    <tr>\n      <th>3</th>\n      <td>Apartamento</td>\n      <td>Grajaú</td>\n      <td>2</td>\n      <td>1</td>\n      <td>0</td>\n      <td>70</td>\n      <td>1500.0</td>\n      <td>642.0</td>\n      <td>74.0</td>\n      <td>21.43</td>\n      <td>Apartamento</td>\n    </tr>\n    <tr>\n      <th>4</th>\n      <td>Apartamento</td>\n      <td>Lins de Vasconcelos</td>\n      <td>3</td>\n      <td>1</td>\n      <td>1</td>\n      <td>90</td>\n      <td>1500.0</td>\n      <td>455.0</td>\n      <td>14.0</td>\n      <td>16.67</td>\n      <td>Apartamento</td>\n    </tr>\n    <tr>\n      <th>...</th>\n      <td>...</td>\n      <td>...</td>\n      <td>...</td>\n      <td>...</td>\n      <td>...</td>\n      <td>...</td>\n      <td>...</td>\n      <td>...</td>\n      <td>...</td>\n      <td>...</td>\n      <td>...</td>\n    </tr>\n    <tr>\n      <th>19826</th>\n      <td>Quitinete</td>\n      <td>Glória</td>\n      <td>1</td>\n      <td>0</td>\n      <td>0</td>\n      <td>10</td>\n      <td>400.0</td>\n      <td>107.0</td>\n      <td>10.0</td>\n      <td>40.00</td>\n      <td>Apartamento</td>\n    </tr>\n    <tr>\n      <th>19827</th>\n      <td>Quitinete</td>\n      <td>Flamengo</td>\n      <td>1</td>\n      <td>0</td>\n      <td>0</td>\n      <td>23</td>\n      <td>900.0</td>\n      <td>605.0</td>\n      <td>0.0</td>\n      <td>39.13</td>\n      <td>Apartamento</td>\n    </tr>\n    <tr>\n      <th>19828</th>\n      <td>Quitinete</td>\n      <td>Centro</td>\n      <td>1</td>\n      <td>0</td>\n      <td>0</td>\n      <td>24</td>\n      <td>1100.0</td>\n      <td>323.0</td>\n      <td>0.0</td>\n      <td>45.83</td>\n      <td>Apartamento</td>\n    </tr>\n    <tr>\n      <th>19829</th>\n      <td>Quitinete</td>\n      <td>Copacabana</td>\n      <td>1</td>\n      <td>0</td>\n      <td>0</td>\n      <td>22</td>\n      <td>1500.0</td>\n      <td>286.0</td>\n      <td>200.0</td>\n      <td>68.18</td>\n      <td>Apartamento</td>\n    </tr>\n    <tr>\n      <th>19830</th>\n      <td>Quitinete</td>\n      <td>Centro</td>\n      <td>0</td>\n      <td>0</td>\n      <td>0</td>\n      <td>27</td>\n      <td>800.0</td>\n      <td>350.0</td>\n      <td>25.0</td>\n      <td>29.63</td>\n      <td>Apartamento</td>\n    </tr>\n  </tbody>\n</table>\n<p>19831 rows × 11 columns</p>\n</div>"
     },
     "execution_count": 15,
     "metadata": {},
     "output_type": "execute_result"
    }
   ],
   "source": [
    "dados = pd.read_csv('extras/dados/aluguel.csv', sep=';')\n",
    "dados"
   ],
   "metadata": {
    "collapsed": false,
    "pycharm": {
     "name": "#%%\n"
    }
   }
  },
  {
   "cell_type": "code",
   "execution_count": 17,
   "outputs": [
    {
     "data": {
      "text/plain": "['Centro']"
     },
     "execution_count": 17,
     "metadata": {},
     "output_type": "execute_result"
    }
   ],
   "source": [
    "list(dados['Bairro'].drop_duplicates())\n",
    "localizacao = ['Centro']\n",
    "localizacao"
   ],
   "metadata": {
    "collapsed": false,
    "pycharm": {
     "name": "#%%\n"
    }
   }
  },
  {
   "cell_type": "code",
   "execution_count": 18,
   "outputs": [
    {
     "data": {
      "text/plain": "0         True\n1        False\n2        False\n3        False\n4        False\n         ...  \n19826    False\n19827    False\n19828     True\n19829    False\n19830     True\nName: Bairro, Length: 19831, dtype: bool"
     },
     "execution_count": 18,
     "metadata": {},
     "output_type": "execute_result"
    }
   ],
   "source": [
    "selecao = dados['Bairro'].isin(localizacao)\n",
    "selecao"
   ],
   "metadata": {
    "collapsed": false,
    "pycharm": {
     "name": "#%%\n"
    }
   }
  },
  {
   "cell_type": "code",
   "execution_count": 19,
   "outputs": [
    {
     "data": {
      "text/plain": "              Tipo  Bairro  Quartos  Vagas  Suites  Area   Valor  Condominio  \\\n0      Apartamento  Centro        1      0       0    15   800.0       390.0   \n27     Apartamento  Centro        1      0       0    27   750.0       371.0   \n48     Apartamento  Centro        1      1       0    37  1100.0       540.0   \n135    Apartamento  Centro        1      0       0    35  1350.0       420.0   \n234    Apartamento  Centro        1      0       0    42  2200.0       619.0   \n...            ...     ...      ...    ...     ...   ...     ...         ...   \n19792    Quitinete  Centro        1      0       0    50  1000.0       400.0   \n19804    Quitinete  Centro        1      0       0    32   700.0       300.0   \n19806    Quitinete  Centro        1      0       0    40  1100.0       300.0   \n19828    Quitinete  Centro        1      0       0    24  1100.0       323.0   \n19830    Quitinete  Centro        0      0       0    27   800.0       350.0   \n\n        IPTU  Valor m2 Tipo Agregado  \n0       20.0     53.33   Apartamento  \n27      19.0     27.78   Apartamento  \n48     900.0     29.73   Apartamento  \n135     24.0     38.57   Apartamento  \n234    202.0     52.38   Apartamento  \n...      ...       ...           ...  \n19792   50.0     20.00   Apartamento  \n19804   21.0     21.88   Apartamento  \n19806    0.0     27.50   Apartamento  \n19828    0.0     45.83   Apartamento  \n19830   25.0     29.63   Apartamento  \n\n[342 rows x 11 columns]",
      "text/html": "<div>\n<style scoped>\n    .dataframe tbody tr th:only-of-type {\n        vertical-align: middle;\n    }\n\n    .dataframe tbody tr th {\n        vertical-align: top;\n    }\n\n    .dataframe thead th {\n        text-align: right;\n    }\n</style>\n<table border=\"1\" class=\"dataframe\">\n  <thead>\n    <tr style=\"text-align: right;\">\n      <th></th>\n      <th>Tipo</th>\n      <th>Bairro</th>\n      <th>Quartos</th>\n      <th>Vagas</th>\n      <th>Suites</th>\n      <th>Area</th>\n      <th>Valor</th>\n      <th>Condominio</th>\n      <th>IPTU</th>\n      <th>Valor m2</th>\n      <th>Tipo Agregado</th>\n    </tr>\n  </thead>\n  <tbody>\n    <tr>\n      <th>0</th>\n      <td>Apartamento</td>\n      <td>Centro</td>\n      <td>1</td>\n      <td>0</td>\n      <td>0</td>\n      <td>15</td>\n      <td>800.0</td>\n      <td>390.0</td>\n      <td>20.0</td>\n      <td>53.33</td>\n      <td>Apartamento</td>\n    </tr>\n    <tr>\n      <th>27</th>\n      <td>Apartamento</td>\n      <td>Centro</td>\n      <td>1</td>\n      <td>0</td>\n      <td>0</td>\n      <td>27</td>\n      <td>750.0</td>\n      <td>371.0</td>\n      <td>19.0</td>\n      <td>27.78</td>\n      <td>Apartamento</td>\n    </tr>\n    <tr>\n      <th>48</th>\n      <td>Apartamento</td>\n      <td>Centro</td>\n      <td>1</td>\n      <td>1</td>\n      <td>0</td>\n      <td>37</td>\n      <td>1100.0</td>\n      <td>540.0</td>\n      <td>900.0</td>\n      <td>29.73</td>\n      <td>Apartamento</td>\n    </tr>\n    <tr>\n      <th>135</th>\n      <td>Apartamento</td>\n      <td>Centro</td>\n      <td>1</td>\n      <td>0</td>\n      <td>0</td>\n      <td>35</td>\n      <td>1350.0</td>\n      <td>420.0</td>\n      <td>24.0</td>\n      <td>38.57</td>\n      <td>Apartamento</td>\n    </tr>\n    <tr>\n      <th>234</th>\n      <td>Apartamento</td>\n      <td>Centro</td>\n      <td>1</td>\n      <td>0</td>\n      <td>0</td>\n      <td>42</td>\n      <td>2200.0</td>\n      <td>619.0</td>\n      <td>202.0</td>\n      <td>52.38</td>\n      <td>Apartamento</td>\n    </tr>\n    <tr>\n      <th>...</th>\n      <td>...</td>\n      <td>...</td>\n      <td>...</td>\n      <td>...</td>\n      <td>...</td>\n      <td>...</td>\n      <td>...</td>\n      <td>...</td>\n      <td>...</td>\n      <td>...</td>\n      <td>...</td>\n    </tr>\n    <tr>\n      <th>19792</th>\n      <td>Quitinete</td>\n      <td>Centro</td>\n      <td>1</td>\n      <td>0</td>\n      <td>0</td>\n      <td>50</td>\n      <td>1000.0</td>\n      <td>400.0</td>\n      <td>50.0</td>\n      <td>20.00</td>\n      <td>Apartamento</td>\n    </tr>\n    <tr>\n      <th>19804</th>\n      <td>Quitinete</td>\n      <td>Centro</td>\n      <td>1</td>\n      <td>0</td>\n      <td>0</td>\n      <td>32</td>\n      <td>700.0</td>\n      <td>300.0</td>\n      <td>21.0</td>\n      <td>21.88</td>\n      <td>Apartamento</td>\n    </tr>\n    <tr>\n      <th>19806</th>\n      <td>Quitinete</td>\n      <td>Centro</td>\n      <td>1</td>\n      <td>0</td>\n      <td>0</td>\n      <td>40</td>\n      <td>1100.0</td>\n      <td>300.0</td>\n      <td>0.0</td>\n      <td>27.50</td>\n      <td>Apartamento</td>\n    </tr>\n    <tr>\n      <th>19828</th>\n      <td>Quitinete</td>\n      <td>Centro</td>\n      <td>1</td>\n      <td>0</td>\n      <td>0</td>\n      <td>24</td>\n      <td>1100.0</td>\n      <td>323.0</td>\n      <td>0.0</td>\n      <td>45.83</td>\n      <td>Apartamento</td>\n    </tr>\n    <tr>\n      <th>19830</th>\n      <td>Quitinete</td>\n      <td>Centro</td>\n      <td>0</td>\n      <td>0</td>\n      <td>0</td>\n      <td>27</td>\n      <td>800.0</td>\n      <td>350.0</td>\n      <td>25.0</td>\n      <td>29.63</td>\n      <td>Apartamento</td>\n    </tr>\n  </tbody>\n</table>\n<p>342 rows × 11 columns</p>\n</div>"
     },
     "execution_count": 19,
     "metadata": {},
     "output_type": "execute_result"
    }
   ],
   "source": [
    "localizacao_centro = dados[selecao]\n",
    "localizacao_centro"
   ],
   "metadata": {
    "collapsed": false,
    "pycharm": {
     "name": "#%%\n"
    }
   }
  }
 ],
 "metadata": {
  "kernelspec": {
   "display_name": "Python 3",
   "language": "python",
   "name": "python3"
  },
  "language_info": {
   "codemirror_mode": {
    "name": "ipython",
    "version": 2
   },
   "file_extension": ".py",
   "mimetype": "text/x-python",
   "name": "python",
   "nbconvert_exporter": "python",
   "pygments_lexer": "ipython2",
   "version": "2.7.6"
  }
 },
 "nbformat": 4,
 "nbformat_minor": 0
}