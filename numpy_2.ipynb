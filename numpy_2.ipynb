{
 "cells": [
  {
   "cell_type": "markdown",
   "source": [
    "Trabalhando com pandas"
   ],
   "metadata": {
    "collapsed": false
   }
  },
  {
   "cell_type": "code",
   "execution_count": 11,
   "outputs": [],
   "source": [
    "import numpy as np\n",
    "import os\n",
    "import pandas as pd\n",
    "# pd.set_option('display.max_row', 1000)\n",
    "# pd.set_option('display.max_column', 1)"
   ],
   "metadata": {
    "collapsed": false,
    "pycharm": {
     "name": "#%%\n"
    }
   }
  },
  {
   "cell_type": "markdown",
   "source": [
    "Carregando arquivos csv"
   ],
   "metadata": {
    "collapsed": false
   }
  },
  {
   "cell_type": "code",
   "execution_count": 12,
   "outputs": [
    {
     "data": {
      "text/plain": "                      Nome                  Motor   Ano  Quilometragem  \\\n0            Jetta Variant        Motor 4.0 Turbo  2003        44410.0   \n1                   Passat           Motor Diesel  1991         5712.0   \n2                 Crossfox        Motor Diesel V8  1990        37123.0   \n3                      DS5        Motor 2.4 Turbo  2019            NaN   \n4         Aston Martin DB4        Motor 2.4 Turbo  2006        25757.0   \n..                     ...                    ...   ...            ...   \n253           Phantom 2013               Motor V8  2014        27505.0   \n254  Cadillac Ciel concept               Motor V8  1991        29981.0   \n255             Classe GLK  Motor 5.0 V8 Bi-Turbo  2002        52637.0   \n256       Aston Martin DB5           Motor Diesel  1996         7685.0   \n257                  Macan        Motor Diesel V6  1992        50188.0   \n\n     Zero_km                                         Acessórios      Valor  \n0      False  ['Rodas de liga', 'Travas elétricas', 'Piloto ...   88078.64  \n1      False  ['Central multimídia', 'Teto panorâmico', 'Fre...  106161.94  \n2      False  ['Piloto automático', 'Controle de estabilidad...   72832.16  \n3       True  ['Travas elétricas', '4 X 4', 'Vidros elétrico...  124549.07  \n4      False  ['Rodas de liga', '4 X 4', 'Central multimídia...   92612.10  \n..       ...                                                ...        ...  \n253    False  ['Controle de estabilidade', 'Piloto automátic...   51759.58  \n254    False  ['Bancos de couro', 'Painel digital', 'Sensor ...   51667.06  \n255    False  ['Rodas de liga', 'Controle de tração', 'Câmbi...   68934.03  \n256    False  ['Ar condicionado', '4 X 4', 'Câmbio automátic...  122110.90  \n257    False  ['Central multimídia', 'Teto panorâmico', 'Vid...   90381.47  \n\n[258 rows x 7 columns]",
      "text/html": "<div>\n<style scoped>\n    .dataframe tbody tr th:only-of-type {\n        vertical-align: middle;\n    }\n\n    .dataframe tbody tr th {\n        vertical-align: top;\n    }\n\n    .dataframe thead th {\n        text-align: right;\n    }\n</style>\n<table border=\"1\" class=\"dataframe\">\n  <thead>\n    <tr style=\"text-align: right;\">\n      <th></th>\n      <th>Nome</th>\n      <th>Motor</th>\n      <th>Ano</th>\n      <th>Quilometragem</th>\n      <th>Zero_km</th>\n      <th>Acessórios</th>\n      <th>Valor</th>\n    </tr>\n  </thead>\n  <tbody>\n    <tr>\n      <th>0</th>\n      <td>Jetta Variant</td>\n      <td>Motor 4.0 Turbo</td>\n      <td>2003</td>\n      <td>44410.0</td>\n      <td>False</td>\n      <td>['Rodas de liga', 'Travas elétricas', 'Piloto ...</td>\n      <td>88078.64</td>\n    </tr>\n    <tr>\n      <th>1</th>\n      <td>Passat</td>\n      <td>Motor Diesel</td>\n      <td>1991</td>\n      <td>5712.0</td>\n      <td>False</td>\n      <td>['Central multimídia', 'Teto panorâmico', 'Fre...</td>\n      <td>106161.94</td>\n    </tr>\n    <tr>\n      <th>2</th>\n      <td>Crossfox</td>\n      <td>Motor Diesel V8</td>\n      <td>1990</td>\n      <td>37123.0</td>\n      <td>False</td>\n      <td>['Piloto automático', 'Controle de estabilidad...</td>\n      <td>72832.16</td>\n    </tr>\n    <tr>\n      <th>3</th>\n      <td>DS5</td>\n      <td>Motor 2.4 Turbo</td>\n      <td>2019</td>\n      <td>NaN</td>\n      <td>True</td>\n      <td>['Travas elétricas', '4 X 4', 'Vidros elétrico...</td>\n      <td>124549.07</td>\n    </tr>\n    <tr>\n      <th>4</th>\n      <td>Aston Martin DB4</td>\n      <td>Motor 2.4 Turbo</td>\n      <td>2006</td>\n      <td>25757.0</td>\n      <td>False</td>\n      <td>['Rodas de liga', '4 X 4', 'Central multimídia...</td>\n      <td>92612.10</td>\n    </tr>\n    <tr>\n      <th>...</th>\n      <td>...</td>\n      <td>...</td>\n      <td>...</td>\n      <td>...</td>\n      <td>...</td>\n      <td>...</td>\n      <td>...</td>\n    </tr>\n    <tr>\n      <th>253</th>\n      <td>Phantom 2013</td>\n      <td>Motor V8</td>\n      <td>2014</td>\n      <td>27505.0</td>\n      <td>False</td>\n      <td>['Controle de estabilidade', 'Piloto automátic...</td>\n      <td>51759.58</td>\n    </tr>\n    <tr>\n      <th>254</th>\n      <td>Cadillac Ciel concept</td>\n      <td>Motor V8</td>\n      <td>1991</td>\n      <td>29981.0</td>\n      <td>False</td>\n      <td>['Bancos de couro', 'Painel digital', 'Sensor ...</td>\n      <td>51667.06</td>\n    </tr>\n    <tr>\n      <th>255</th>\n      <td>Classe GLK</td>\n      <td>Motor 5.0 V8 Bi-Turbo</td>\n      <td>2002</td>\n      <td>52637.0</td>\n      <td>False</td>\n      <td>['Rodas de liga', 'Controle de tração', 'Câmbi...</td>\n      <td>68934.03</td>\n    </tr>\n    <tr>\n      <th>256</th>\n      <td>Aston Martin DB5</td>\n      <td>Motor Diesel</td>\n      <td>1996</td>\n      <td>7685.0</td>\n      <td>False</td>\n      <td>['Ar condicionado', '4 X 4', 'Câmbio automátic...</td>\n      <td>122110.90</td>\n    </tr>\n    <tr>\n      <th>257</th>\n      <td>Macan</td>\n      <td>Motor Diesel V6</td>\n      <td>1992</td>\n      <td>50188.0</td>\n      <td>False</td>\n      <td>['Central multimídia', 'Teto panorâmico', 'Vid...</td>\n      <td>90381.47</td>\n    </tr>\n  </tbody>\n</table>\n<p>258 rows × 7 columns</p>\n</div>"
     },
     "execution_count": 12,
     "metadata": {},
     "output_type": "execute_result"
    }
   ],
   "source": [
    "dir_file = os.path.join(\"./data/\", \"db.csv\")\n",
    "dataset = pd.read_csv(dir_file, sep = ';')\n",
    "dataset"
   ],
   "metadata": {
    "collapsed": false,
    "pycharm": {
     "name": "#%%\n"
    }
   }
  },
  {
   "cell_type": "markdown",
   "source": [
    "Estatísticas básicas"
   ],
   "metadata": {
    "collapsed": false
   }
  },
  {
   "cell_type": "code",
   "execution_count": 13,
   "outputs": [
    {
     "data": {
      "text/plain": "               Ano  Quilometragem          Valor\ncount   258.000000     197.000000     258.000000\nmean   2007.511628   58278.421320   98960.513101\nstd       9.725906   35836.733259   29811.932305\nmin    1990.000000     107.000000   50742.100000\n25%    1999.000000   27505.000000   70743.512500\n50%    2008.000000   55083.000000   97724.380000\n75%    2018.000000   90495.000000  124633.302500\nmax    2019.000000  119945.000000  149489.920000",
      "text/html": "<div>\n<style scoped>\n    .dataframe tbody tr th:only-of-type {\n        vertical-align: middle;\n    }\n\n    .dataframe tbody tr th {\n        vertical-align: top;\n    }\n\n    .dataframe thead th {\n        text-align: right;\n    }\n</style>\n<table border=\"1\" class=\"dataframe\">\n  <thead>\n    <tr style=\"text-align: right;\">\n      <th></th>\n      <th>Ano</th>\n      <th>Quilometragem</th>\n      <th>Valor</th>\n    </tr>\n  </thead>\n  <tbody>\n    <tr>\n      <th>count</th>\n      <td>258.000000</td>\n      <td>197.000000</td>\n      <td>258.000000</td>\n    </tr>\n    <tr>\n      <th>mean</th>\n      <td>2007.511628</td>\n      <td>58278.421320</td>\n      <td>98960.513101</td>\n    </tr>\n    <tr>\n      <th>std</th>\n      <td>9.725906</td>\n      <td>35836.733259</td>\n      <td>29811.932305</td>\n    </tr>\n    <tr>\n      <th>min</th>\n      <td>1990.000000</td>\n      <td>107.000000</td>\n      <td>50742.100000</td>\n    </tr>\n    <tr>\n      <th>25%</th>\n      <td>1999.000000</td>\n      <td>27505.000000</td>\n      <td>70743.512500</td>\n    </tr>\n    <tr>\n      <th>50%</th>\n      <td>2008.000000</td>\n      <td>55083.000000</td>\n      <td>97724.380000</td>\n    </tr>\n    <tr>\n      <th>75%</th>\n      <td>2018.000000</td>\n      <td>90495.000000</td>\n      <td>124633.302500</td>\n    </tr>\n    <tr>\n      <th>max</th>\n      <td>2019.000000</td>\n      <td>119945.000000</td>\n      <td>149489.920000</td>\n    </tr>\n  </tbody>\n</table>\n</div>"
     },
     "execution_count": 13,
     "metadata": {},
     "output_type": "execute_result"
    }
   ],
   "source": [
    "dataset.describe()\n"
   ],
   "metadata": {
    "collapsed": false,
    "pycharm": {
     "name": "#%%\n"
    }
   }
  },
  {
   "cell_type": "markdown",
   "source": [
    "Tuplas"
   ],
   "metadata": {
    "collapsed": false
   }
  },
  {
   "cell_type": "code",
   "execution_count": 14,
   "outputs": [
    {
     "data": {
      "text/plain": "('Passat', 'Crossfox', 'DS5')"
     },
     "execution_count": 14,
     "metadata": {},
     "output_type": "execute_result"
    }
   ],
   "source": [
    "nomes_carros = tuple(['Passat', 'Crossfox', 'DS5'])\n",
    "nomes_carros"
   ],
   "metadata": {
    "collapsed": false,
    "pycharm": {
     "name": "#%%\n"
    }
   }
  },
  {
   "cell_type": "code",
   "execution_count": 15,
   "outputs": [
    {
     "data": {
      "text/plain": "('Passat', 'Crossfox', 'DS5')"
     },
     "execution_count": 15,
     "metadata": {},
     "output_type": "execute_result"
    }
   ],
   "source": [
    "#segunda forma\n",
    "('Passat', 'Crossfox', 'DS5')"
   ],
   "metadata": {
    "collapsed": false,
    "pycharm": {
     "name": "#%%\n"
    }
   }
  },
  {
   "cell_type": "markdown",
   "source": [
    "Seleções em tuplas"
   ],
   "metadata": {
    "collapsed": false
   }
  },
  {
   "cell_type": "code",
   "execution_count": 16,
   "outputs": [
    {
     "data": {
      "text/plain": "('Crossfox',)"
     },
     "execution_count": 16,
     "metadata": {},
     "output_type": "execute_result"
    }
   ],
   "source": [
    "nomes_carros[1:2]"
   ],
   "metadata": {
    "collapsed": false,
    "pycharm": {
     "name": "#%%\n"
    }
   }
  },
  {
   "cell_type": "markdown",
   "source": [
    "Iterando tuplas"
   ],
   "metadata": {
    "collapsed": false
   }
  },
  {
   "cell_type": "code",
   "execution_count": 17,
   "outputs": [
    {
     "name": "stdout",
     "output_type": "stream",
     "text": [
      "Passat\n",
      "Crossfox\n",
      "DS5\n"
     ]
    }
   ],
   "source": [
    "for item in nomes_carros:\n",
    "    print(item)"
   ],
   "metadata": {
    "collapsed": false,
    "pycharm": {
     "name": "#%%\n"
    }
   }
  },
  {
   "cell_type": "code",
   "execution_count": 18,
   "outputs": [
    {
     "name": "stdout",
     "output_type": "stream",
     "text": [
      "Passat Crossfox DS5\n"
     ]
    }
   ],
   "source": [
    "c1, c2, c3 = nomes_carros\n",
    "print(c1, c2, c3)"
   ],
   "metadata": {
    "collapsed": false,
    "pycharm": {
     "name": "#%%\n"
    }
   }
  },
  {
   "cell_type": "code",
   "execution_count": 19,
   "outputs": [
    {
     "name": "stdout",
     "output_type": "stream",
     "text": [
      "Crossfox DS5 Passat\n"
     ]
    }
   ],
   "source": [
    "#ignorando o primeiro e todos depois do primeiro\n",
    "_, A, B = nomes_carros\n",
    "C, *_ = nomes_carros\n",
    "print(A, B, C)"
   ],
   "metadata": {
    "collapsed": false,
    "pycharm": {
     "name": "#%%\n"
    }
   }
  },
  {
   "cell_type": "markdown",
   "source": [
    "Desempacotamento com zip"
   ],
   "metadata": {
    "collapsed": false
   }
  },
  {
   "cell_type": "code",
   "execution_count": 20,
   "outputs": [
    {
     "name": "stdout",
     "output_type": "stream",
     "text": [
      "Passat 88075.64\n",
      "Crossfox  70000.31\n",
      "DS5 23000.21\n"
     ]
    }
   ],
   "source": [
    "valores = tuple(['88075.64', ' 70000.31', '23000.21'])\n",
    "\n",
    "for carro, valor in zip(nomes_carros, valores):\n",
    "    print(carro, valor)"
   ],
   "metadata": {
    "collapsed": false,
    "pycharm": {
     "name": "#%%\n"
    }
   }
  },
  {
   "cell_type": "markdown",
   "source": [
    "Criando dicionários com zip()"
   ],
   "metadata": {
    "collapsed": false
   }
  },
  {
   "cell_type": "code",
   "execution_count": 23,
   "outputs": [
    {
     "data": {
      "text/plain": "{'Passat': '88075.64', 'Crossfox': ' 70000.31', 'DS5': '23000.21'}"
     },
     "execution_count": 23,
     "metadata": {},
     "output_type": "execute_result"
    }
   ],
   "source": [
    "dados = dict(zip(nomes_carros, valores))\n",
    "dados\n"
   ],
   "metadata": {
    "collapsed": false,
    "pycharm": {
     "name": "#%%\n"
    }
   }
  },
  {
   "cell_type": "markdown",
   "source": [
    "Operações com dict\n"
   ],
   "metadata": {
    "collapsed": false
   }
  },
  {
   "cell_type": "markdown",
   "source": [
    "Adicionando valores"
   ],
   "metadata": {
    "collapsed": false
   }
  },
  {
   "cell_type": "code",
   "execution_count": 25,
   "outputs": [
    {
     "data": {
      "text/plain": "{'Passat': '88075.64',\n 'Crossfox': ' 70000.31',\n 'DS5': '23000.21',\n 'Gol': 30000.2}"
     },
     "execution_count": 25,
     "metadata": {},
     "output_type": "execute_result"
    }
   ],
   "source": [
    "dados['Gol'] = 30000.2\n",
    "dados"
   ],
   "metadata": {
    "collapsed": false,
    "pycharm": {
     "name": "#%%\n"
    }
   }
  },
  {
   "cell_type": "markdown",
   "source": [
    "Update no dict"
   ],
   "metadata": {
    "collapsed": false
   }
  },
  {
   "cell_type": "code",
   "execution_count": 26,
   "outputs": [
    {
     "data": {
      "text/plain": "{'Passat': '88075.64',\n 'Crossfox': ' 70000.31',\n 'DS5': '23000.21',\n 'Gol': 30000.2,\n 'Fiat Uno': 2600.45}"
     },
     "execution_count": 26,
     "metadata": {},
     "output_type": "execute_result"
    }
   ],
   "source": [
    "dados.update({'Fiat Uno': 2600.45})\n",
    "dados"
   ],
   "metadata": {
    "collapsed": false,
    "pycharm": {
     "name": "#%%\n"
    }
   }
  },
  {
   "cell_type": "markdown",
   "source": [
    "Copia do dict"
   ],
   "metadata": {
    "collapsed": false
   }
  },
  {
   "cell_type": "code",
   "execution_count": 27,
   "outputs": [
    {
     "data": {
      "text/plain": "{'Passat': '88075.64',\n 'Crossfox': ' 70000.31',\n 'DS5': '23000.21',\n 'Gol': 30000.2,\n 'Fiat Uno': 2600.45}"
     },
     "execution_count": 27,
     "metadata": {},
     "output_type": "execute_result"
    }
   ],
   "source": [
    "dados_copy = dados.copy()\n",
    "dados_copy"
   ],
   "metadata": {
    "collapsed": false,
    "pycharm": {
     "name": "#%%\n"
    }
   }
  },
  {
   "cell_type": "markdown",
   "source": [
    "eliminando valores do dict - pop"
   ],
   "metadata": {
    "collapsed": false
   }
  },
  {
   "cell_type": "code",
   "execution_count": 28,
   "outputs": [
    {
     "data": {
      "text/plain": "{'Passat': '88075.64',\n 'Crossfox': ' 70000.31',\n 'DS5': '23000.21',\n 'Gol': 30000.2}"
     },
     "execution_count": 28,
     "metadata": {},
     "output_type": "execute_result"
    }
   ],
   "source": [
    "dados_copy.pop('Fiat Uno')\n",
    "dados_copy"
   ],
   "metadata": {
    "collapsed": false,
    "pycharm": {
     "name": "#%%\n"
    }
   }
  },
  {
   "cell_type": "markdown",
   "source": [
    "Remove tudo do dict"
   ],
   "metadata": {
    "collapsed": false
   }
  },
  {
   "cell_type": "code",
   "execution_count": 29,
   "outputs": [
    {
     "data": {
      "text/plain": "{}"
     },
     "execution_count": 29,
     "metadata": {},
     "output_type": "execute_result"
    }
   ],
   "source": [
    "dados_copy.clear()\n",
    "dados_copy"
   ],
   "metadata": {
    "collapsed": false,
    "pycharm": {
     "name": "#%%\n"
    }
   }
  },
  {
   "cell_type": "markdown",
   "source": [
    "Iteração em dicts"
   ],
   "metadata": {
    "collapsed": false
   }
  },
  {
   "cell_type": "code",
   "execution_count": 30,
   "outputs": [
    {
     "data": {
      "text/plain": "dict_keys(['Passat', 'Crossfox', 'DS5', 'Gol', 'Fiat Uno'])"
     },
     "execution_count": 30,
     "metadata": {},
     "output_type": "execute_result"
    }
   ],
   "source": [
    "dados.keys()"
   ],
   "metadata": {
    "collapsed": false,
    "pycharm": {
     "name": "#%%\n"
    }
   }
  },
  {
   "cell_type": "code",
   "execution_count": 31,
   "outputs": [
    {
     "name": "stdout",
     "output_type": "stream",
     "text": [
      "88075.64\n",
      " 70000.31\n",
      "23000.21\n",
      "30000.2\n",
      "2600.45\n"
     ]
    }
   ],
   "source": [
    "for key in dados.keys():\n",
    "    print(dados[key])"
   ],
   "metadata": {
    "collapsed": false,
    "pycharm": {
     "name": "#%%\n"
    }
   }
  },
  {
   "cell_type": "markdown",
   "source": [
    "lista contendo uma tupla para cada key-value"
   ],
   "metadata": {
    "collapsed": false
   }
  },
  {
   "cell_type": "code",
   "execution_count": 32,
   "outputs": [
    {
     "data": {
      "text/plain": "dict_items([('Passat', '88075.64'), ('Crossfox', ' 70000.31'), ('DS5', '23000.21'), ('Gol', 30000.2), ('Fiat Uno', 2600.45)])"
     },
     "execution_count": 32,
     "metadata": {},
     "output_type": "execute_result"
    }
   ],
   "source": [
    "dados.items()\n"
   ],
   "metadata": {
    "collapsed": false,
    "pycharm": {
     "name": "#%%\n"
    }
   }
  },
  {
   "cell_type": "code",
   "execution_count": 33,
   "outputs": [
    {
     "name": "stdout",
     "output_type": "stream",
     "text": [
      "Passat 88075.64\n",
      "Crossfox  70000.31\n",
      "DS5 23000.21\n",
      "Gol 30000.2\n",
      "Fiat Uno 2600.45\n"
     ]
    }
   ],
   "source": [
    "for key, value in dados.items():\n",
    "    print(key, value)"
   ],
   "metadata": {
    "collapsed": false,
    "pycharm": {
     "name": "#%%\n"
    }
   }
  }
 ],
 "metadata": {
  "kernelspec": {
   "display_name": "Python 3",
   "language": "python",
   "name": "python3"
  },
  "language_info": {
   "codemirror_mode": {
    "name": "ipython",
    "version": 2
   },
   "file_extension": ".py",
   "mimetype": "text/x-python",
   "name": "python",
   "nbconvert_exporter": "python",
   "pygments_lexer": "ipython2",
   "version": "2.7.6"
  }
 },
 "nbformat": 4,
 "nbformat_minor": 0
}