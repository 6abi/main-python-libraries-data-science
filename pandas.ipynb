{
 "cells": [
  {
   "cell_type": "markdown",
   "source": [
    "Trabalhando com Pandas"
   ],
   "metadata": {
    "collapsed": false
   }
  },
  {
   "cell_type": "markdown",
   "source": [
    "Consulte mais em: https://pandas.pydata.org/docs/"
   ],
   "metadata": {
    "collapsed": false
   }
  },
  {
   "cell_type": "code",
   "execution_count": 51,
   "outputs": [],
   "source": [
    "import numpy as np\n",
    "import os\n",
    "import pandas as pd\n",
    "# pd.set_option('display.max_row', 1000)\n",
    "# pd.set_option('display.max_column', 1)"
   ],
   "metadata": {
    "collapsed": false,
    "pycharm": {
     "name": "#%%\n"
    }
   }
  },
  {
   "cell_type": "markdown",
   "source": [
    "Carregando arquivos csv"
   ],
   "metadata": {
    "collapsed": false
   }
  },
  {
   "cell_type": "code",
   "execution_count": 52,
   "outputs": [
    {
     "data": {
      "text/plain": "                      Nome                  Motor   Ano  Quilometragem  \\\n0            Jetta Variant        Motor 4.0 Turbo  2003        44410.0   \n1                   Passat           Motor Diesel  1991         5712.0   \n2                 Crossfox        Motor Diesel V8  1990        37123.0   \n3                      DS5        Motor 2.4 Turbo  2019            NaN   \n4         Aston Martin DB4        Motor 2.4 Turbo  2006        25757.0   \n..                     ...                    ...   ...            ...   \n253           Phantom 2013               Motor V8  2014        27505.0   \n254  Cadillac Ciel concept               Motor V8  1991        29981.0   \n255             Classe GLK  Motor 5.0 V8 Bi-Turbo  2002        52637.0   \n256       Aston Martin DB5           Motor Diesel  1996         7685.0   \n257                  Macan        Motor Diesel V6  1992        50188.0   \n\n     Zero_km                                         Acessórios      Valor  \n0      False  ['Rodas de liga', 'Travas elétricas', 'Piloto ...   88078.64  \n1      False  ['Central multimídia', 'Teto panorâmico', 'Fre...  106161.94  \n2      False  ['Piloto automático', 'Controle de estabilidad...   72832.16  \n3       True  ['Travas elétricas', '4 X 4', 'Vidros elétrico...  124549.07  \n4      False  ['Rodas de liga', '4 X 4', 'Central multimídia...   92612.10  \n..       ...                                                ...        ...  \n253    False  ['Controle de estabilidade', 'Piloto automátic...   51759.58  \n254    False  ['Bancos de couro', 'Painel digital', 'Sensor ...   51667.06  \n255    False  ['Rodas de liga', 'Controle de tração', 'Câmbi...   68934.03  \n256    False  ['Ar condicionado', '4 X 4', 'Câmbio automátic...  122110.90  \n257    False  ['Central multimídia', 'Teto panorâmico', 'Vid...   90381.47  \n\n[258 rows x 7 columns]",
      "text/html": "<div>\n<style scoped>\n    .dataframe tbody tr th:only-of-type {\n        vertical-align: middle;\n    }\n\n    .dataframe tbody tr th {\n        vertical-align: top;\n    }\n\n    .dataframe thead th {\n        text-align: right;\n    }\n</style>\n<table border=\"1\" class=\"dataframe\">\n  <thead>\n    <tr style=\"text-align: right;\">\n      <th></th>\n      <th>Nome</th>\n      <th>Motor</th>\n      <th>Ano</th>\n      <th>Quilometragem</th>\n      <th>Zero_km</th>\n      <th>Acessórios</th>\n      <th>Valor</th>\n    </tr>\n  </thead>\n  <tbody>\n    <tr>\n      <th>0</th>\n      <td>Jetta Variant</td>\n      <td>Motor 4.0 Turbo</td>\n      <td>2003</td>\n      <td>44410.0</td>\n      <td>False</td>\n      <td>['Rodas de liga', 'Travas elétricas', 'Piloto ...</td>\n      <td>88078.64</td>\n    </tr>\n    <tr>\n      <th>1</th>\n      <td>Passat</td>\n      <td>Motor Diesel</td>\n      <td>1991</td>\n      <td>5712.0</td>\n      <td>False</td>\n      <td>['Central multimídia', 'Teto panorâmico', 'Fre...</td>\n      <td>106161.94</td>\n    </tr>\n    <tr>\n      <th>2</th>\n      <td>Crossfox</td>\n      <td>Motor Diesel V8</td>\n      <td>1990</td>\n      <td>37123.0</td>\n      <td>False</td>\n      <td>['Piloto automático', 'Controle de estabilidad...</td>\n      <td>72832.16</td>\n    </tr>\n    <tr>\n      <th>3</th>\n      <td>DS5</td>\n      <td>Motor 2.4 Turbo</td>\n      <td>2019</td>\n      <td>NaN</td>\n      <td>True</td>\n      <td>['Travas elétricas', '4 X 4', 'Vidros elétrico...</td>\n      <td>124549.07</td>\n    </tr>\n    <tr>\n      <th>4</th>\n      <td>Aston Martin DB4</td>\n      <td>Motor 2.4 Turbo</td>\n      <td>2006</td>\n      <td>25757.0</td>\n      <td>False</td>\n      <td>['Rodas de liga', '4 X 4', 'Central multimídia...</td>\n      <td>92612.10</td>\n    </tr>\n    <tr>\n      <th>...</th>\n      <td>...</td>\n      <td>...</td>\n      <td>...</td>\n      <td>...</td>\n      <td>...</td>\n      <td>...</td>\n      <td>...</td>\n    </tr>\n    <tr>\n      <th>253</th>\n      <td>Phantom 2013</td>\n      <td>Motor V8</td>\n      <td>2014</td>\n      <td>27505.0</td>\n      <td>False</td>\n      <td>['Controle de estabilidade', 'Piloto automátic...</td>\n      <td>51759.58</td>\n    </tr>\n    <tr>\n      <th>254</th>\n      <td>Cadillac Ciel concept</td>\n      <td>Motor V8</td>\n      <td>1991</td>\n      <td>29981.0</td>\n      <td>False</td>\n      <td>['Bancos de couro', 'Painel digital', 'Sensor ...</td>\n      <td>51667.06</td>\n    </tr>\n    <tr>\n      <th>255</th>\n      <td>Classe GLK</td>\n      <td>Motor 5.0 V8 Bi-Turbo</td>\n      <td>2002</td>\n      <td>52637.0</td>\n      <td>False</td>\n      <td>['Rodas de liga', 'Controle de tração', 'Câmbi...</td>\n      <td>68934.03</td>\n    </tr>\n    <tr>\n      <th>256</th>\n      <td>Aston Martin DB5</td>\n      <td>Motor Diesel</td>\n      <td>1996</td>\n      <td>7685.0</td>\n      <td>False</td>\n      <td>['Ar condicionado', '4 X 4', 'Câmbio automátic...</td>\n      <td>122110.90</td>\n    </tr>\n    <tr>\n      <th>257</th>\n      <td>Macan</td>\n      <td>Motor Diesel V6</td>\n      <td>1992</td>\n      <td>50188.0</td>\n      <td>False</td>\n      <td>['Central multimídia', 'Teto panorâmico', 'Vid...</td>\n      <td>90381.47</td>\n    </tr>\n  </tbody>\n</table>\n<p>258 rows × 7 columns</p>\n</div>"
     },
     "execution_count": 52,
     "metadata": {},
     "output_type": "execute_result"
    }
   ],
   "source": [
    "dir_file = os.path.join(\"./data/\", \"db.csv\")\n",
    "dataset = pd.read_csv(dir_file, sep = ';')\n",
    "dataset"
   ],
   "metadata": {
    "collapsed": false,
    "pycharm": {
     "name": "#%%\n"
    }
   }
  },
  {
   "cell_type": "markdown",
   "source": [
    "Seleções com DataFrame\n"
   ],
   "metadata": {
    "collapsed": false
   }
  },
  {
   "cell_type": "markdown",
   "source": [
    "loc - se baseia nos indices do dataset\n",
    "iloc - se baseia no indice numérico do dataset"
   ],
   "metadata": {
    "collapsed": false
   }
  },
  {
   "cell_type": "code",
   "execution_count": 55,
   "outputs": [
    {
     "data": {
      "text/plain": "            Nome            Motor\n0  Jetta Variant  Motor 4.0 Turbo\n1         Passat     Motor Diesel\n2       Crossfox  Motor Diesel V8",
      "text/html": "<div>\n<style scoped>\n    .dataframe tbody tr th:only-of-type {\n        vertical-align: middle;\n    }\n\n    .dataframe tbody tr th {\n        vertical-align: top;\n    }\n\n    .dataframe thead th {\n        text-align: right;\n    }\n</style>\n<table border=\"1\" class=\"dataframe\">\n  <thead>\n    <tr style=\"text-align: right;\">\n      <th></th>\n      <th>Nome</th>\n      <th>Motor</th>\n    </tr>\n  </thead>\n  <tbody>\n    <tr>\n      <th>0</th>\n      <td>Jetta Variant</td>\n      <td>Motor 4.0 Turbo</td>\n    </tr>\n    <tr>\n      <th>1</th>\n      <td>Passat</td>\n      <td>Motor Diesel</td>\n    </tr>\n    <tr>\n      <th>2</th>\n      <td>Crossfox</td>\n      <td>Motor Diesel V8</td>\n    </tr>\n  </tbody>\n</table>\n</div>"
     },
     "execution_count": 55,
     "metadata": {},
     "output_type": "execute_result"
    }
   ],
   "source": [
    "dataset.iloc[:3,:2]"
   ],
   "metadata": {
    "collapsed": false,
    "pycharm": {
     "name": "#%%\n"
    }
   }
  },
  {
   "cell_type": "markdown",
   "source": [
    "Consultando com dataframes"
   ],
   "metadata": {
    "collapsed": false
   }
  },
  {
   "cell_type": "code",
   "execution_count": 56,
   "outputs": [
    {
     "data": {
      "text/plain": "                    Nome         Motor   Ano  Quilometragem  Zero_km  \\\n60               Sorento  Motor Diesel  2019            NaN     True   \n78           Cielo Hatch  Motor Diesel  2019            NaN     True   \n124                Camry  Motor Diesel  2019            NaN     True   \n189  Aston Martin Virage  Motor Diesel  2019            NaN     True   \n237         Série 7 Sedã  Motor Diesel  2019            NaN     True   \n\n                                            Acessórios      Valor  \n60   ['Sensor de chuva', 'Câmera de estacionamento'...   81399.35  \n78   ['Painel digital', 'Central multimídia', 'Câme...  145197.70  \n124  ['Travas elétricas', 'Rodas de liga', 'Sensor ...  138597.27  \n189  ['Travas elétricas', 'Controle de tração', 'Câ...   97290.18  \n237  ['Vidros elétricos', 'Travas elétricas', 'Roda...   67539.79  ",
      "text/html": "<div>\n<style scoped>\n    .dataframe tbody tr th:only-of-type {\n        vertical-align: middle;\n    }\n\n    .dataframe tbody tr th {\n        vertical-align: top;\n    }\n\n    .dataframe thead th {\n        text-align: right;\n    }\n</style>\n<table border=\"1\" class=\"dataframe\">\n  <thead>\n    <tr style=\"text-align: right;\">\n      <th></th>\n      <th>Nome</th>\n      <th>Motor</th>\n      <th>Ano</th>\n      <th>Quilometragem</th>\n      <th>Zero_km</th>\n      <th>Acessórios</th>\n      <th>Valor</th>\n    </tr>\n  </thead>\n  <tbody>\n    <tr>\n      <th>60</th>\n      <td>Sorento</td>\n      <td>Motor Diesel</td>\n      <td>2019</td>\n      <td>NaN</td>\n      <td>True</td>\n      <td>['Sensor de chuva', 'Câmera de estacionamento'...</td>\n      <td>81399.35</td>\n    </tr>\n    <tr>\n      <th>78</th>\n      <td>Cielo Hatch</td>\n      <td>Motor Diesel</td>\n      <td>2019</td>\n      <td>NaN</td>\n      <td>True</td>\n      <td>['Painel digital', 'Central multimídia', 'Câme...</td>\n      <td>145197.70</td>\n    </tr>\n    <tr>\n      <th>124</th>\n      <td>Camry</td>\n      <td>Motor Diesel</td>\n      <td>2019</td>\n      <td>NaN</td>\n      <td>True</td>\n      <td>['Travas elétricas', 'Rodas de liga', 'Sensor ...</td>\n      <td>138597.27</td>\n    </tr>\n    <tr>\n      <th>189</th>\n      <td>Aston Martin Virage</td>\n      <td>Motor Diesel</td>\n      <td>2019</td>\n      <td>NaN</td>\n      <td>True</td>\n      <td>['Travas elétricas', 'Controle de tração', 'Câ...</td>\n      <td>97290.18</td>\n    </tr>\n    <tr>\n      <th>237</th>\n      <td>Série 7 Sedã</td>\n      <td>Motor Diesel</td>\n      <td>2019</td>\n      <td>NaN</td>\n      <td>True</td>\n      <td>['Vidros elétricos', 'Travas elétricas', 'Roda...</td>\n      <td>67539.79</td>\n    </tr>\n  </tbody>\n</table>\n</div>"
     },
     "execution_count": 56,
     "metadata": {},
     "output_type": "execute_result"
    }
   ],
   "source": [
    "dataset[(dataset.Motor == 'Motor Diesel') & (dataset.Zero_km == True)]\n"
   ],
   "metadata": {
    "collapsed": false,
    "pycharm": {
     "name": "#%%\n"
    }
   }
  },
  {
   "cell_type": "markdown",
   "source": [
    "Queries com dataframes"
   ],
   "metadata": {
    "collapsed": false
   }
  },
  {
   "cell_type": "code",
   "execution_count": 57,
   "outputs": [
    {
     "data": {
      "text/plain": "                    Nome         Motor   Ano  Quilometragem  Zero_km  \\\n60               Sorento  Motor Diesel  2019            NaN     True   \n78           Cielo Hatch  Motor Diesel  2019            NaN     True   \n124                Camry  Motor Diesel  2019            NaN     True   \n189  Aston Martin Virage  Motor Diesel  2019            NaN     True   \n237         Série 7 Sedã  Motor Diesel  2019            NaN     True   \n\n                                            Acessórios      Valor  \n60   ['Sensor de chuva', 'Câmera de estacionamento'...   81399.35  \n78   ['Painel digital', 'Central multimídia', 'Câme...  145197.70  \n124  ['Travas elétricas', 'Rodas de liga', 'Sensor ...  138597.27  \n189  ['Travas elétricas', 'Controle de tração', 'Câ...   97290.18  \n237  ['Vidros elétricos', 'Travas elétricas', 'Roda...   67539.79  ",
      "text/html": "<div>\n<style scoped>\n    .dataframe tbody tr th:only-of-type {\n        vertical-align: middle;\n    }\n\n    .dataframe tbody tr th {\n        vertical-align: top;\n    }\n\n    .dataframe thead th {\n        text-align: right;\n    }\n</style>\n<table border=\"1\" class=\"dataframe\">\n  <thead>\n    <tr style=\"text-align: right;\">\n      <th></th>\n      <th>Nome</th>\n      <th>Motor</th>\n      <th>Ano</th>\n      <th>Quilometragem</th>\n      <th>Zero_km</th>\n      <th>Acessórios</th>\n      <th>Valor</th>\n    </tr>\n  </thead>\n  <tbody>\n    <tr>\n      <th>60</th>\n      <td>Sorento</td>\n      <td>Motor Diesel</td>\n      <td>2019</td>\n      <td>NaN</td>\n      <td>True</td>\n      <td>['Sensor de chuva', 'Câmera de estacionamento'...</td>\n      <td>81399.35</td>\n    </tr>\n    <tr>\n      <th>78</th>\n      <td>Cielo Hatch</td>\n      <td>Motor Diesel</td>\n      <td>2019</td>\n      <td>NaN</td>\n      <td>True</td>\n      <td>['Painel digital', 'Central multimídia', 'Câme...</td>\n      <td>145197.70</td>\n    </tr>\n    <tr>\n      <th>124</th>\n      <td>Camry</td>\n      <td>Motor Diesel</td>\n      <td>2019</td>\n      <td>NaN</td>\n      <td>True</td>\n      <td>['Travas elétricas', 'Rodas de liga', 'Sensor ...</td>\n      <td>138597.27</td>\n    </tr>\n    <tr>\n      <th>189</th>\n      <td>Aston Martin Virage</td>\n      <td>Motor Diesel</td>\n      <td>2019</td>\n      <td>NaN</td>\n      <td>True</td>\n      <td>['Travas elétricas', 'Controle de tração', 'Câ...</td>\n      <td>97290.18</td>\n    </tr>\n    <tr>\n      <th>237</th>\n      <td>Série 7 Sedã</td>\n      <td>Motor Diesel</td>\n      <td>2019</td>\n      <td>NaN</td>\n      <td>True</td>\n      <td>['Vidros elétricos', 'Travas elétricas', 'Roda...</td>\n      <td>67539.79</td>\n    </tr>\n  </tbody>\n</table>\n</div>"
     },
     "execution_count": 57,
     "metadata": {},
     "output_type": "execute_result"
    }
   ],
   "source": [
    "dataset.query('Motor == \"Motor Diesel\" and Zero_km == True')"
   ],
   "metadata": {
    "collapsed": false,
    "pycharm": {
     "name": "#%%\n"
    }
   }
  }
 ],
 "metadata": {
  "kernelspec": {
   "display_name": "Python 3",
   "language": "python",
   "name": "python3"
  },
  "language_info": {
   "codemirror_mode": {
    "name": "ipython",
    "version": 2
   },
   "file_extension": ".py",
   "mimetype": "text/x-python",
   "name": "python",
   "nbconvert_exporter": "python",
   "pygments_lexer": "ipython2",
   "version": "2.7.6"
  }
 },
 "nbformat": 4,
 "nbformat_minor": 0
}