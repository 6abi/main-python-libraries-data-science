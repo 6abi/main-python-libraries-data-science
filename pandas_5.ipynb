{
 "cells": [
  {
   "cell_type": "markdown",
   "source": [
    "Concatenando Dataframes"
   ],
   "metadata": {
    "collapsed": false
   }
  },
  {
   "cell_type": "code",
   "execution_count": 1,
   "outputs": [
    {
     "data": {
      "text/plain": "              Tipo               Bairro  Quartos  Vagas  Suites  Area   Valor  \\\n0      Apartamento               Centro        1      0       0    15   800.0   \n1      Apartamento         Higienópolis        1      0       0    48   800.0   \n2      Apartamento             Cachambi        2      0       0    50  1300.0   \n3      Apartamento               Grajaú        2      1       0    70  1500.0   \n4      Apartamento  Lins de Vasconcelos        3      1       1    90  1500.0   \n...            ...                  ...      ...    ...     ...   ...     ...   \n19826    Quitinete               Glória        1      0       0    10   400.0   \n19827    Quitinete             Flamengo        1      0       0    23   900.0   \n19828    Quitinete               Centro        1      0       0    24  1100.0   \n19829    Quitinete           Copacabana        1      0       0    22  1500.0   \n19830    Quitinete               Centro        0      0       0    27   800.0   \n\n       Condominio   IPTU  Valor m2 Tipo Agregado  \n0           390.0   20.0     53.33   Apartamento  \n1           230.0    0.0     16.67   Apartamento  \n2           301.0   17.0     26.00   Apartamento  \n3           642.0   74.0     21.43   Apartamento  \n4           455.0   14.0     16.67   Apartamento  \n...           ...    ...       ...           ...  \n19826       107.0   10.0     40.00   Apartamento  \n19827       605.0    0.0     39.13   Apartamento  \n19828       323.0    0.0     45.83   Apartamento  \n19829       286.0  200.0     68.18   Apartamento  \n19830       350.0   25.0     29.63   Apartamento  \n\n[19831 rows x 11 columns]",
      "text/html": "<div>\n<style scoped>\n    .dataframe tbody tr th:only-of-type {\n        vertical-align: middle;\n    }\n\n    .dataframe tbody tr th {\n        vertical-align: top;\n    }\n\n    .dataframe thead th {\n        text-align: right;\n    }\n</style>\n<table border=\"1\" class=\"dataframe\">\n  <thead>\n    <tr style=\"text-align: right;\">\n      <th></th>\n      <th>Tipo</th>\n      <th>Bairro</th>\n      <th>Quartos</th>\n      <th>Vagas</th>\n      <th>Suites</th>\n      <th>Area</th>\n      <th>Valor</th>\n      <th>Condominio</th>\n      <th>IPTU</th>\n      <th>Valor m2</th>\n      <th>Tipo Agregado</th>\n    </tr>\n  </thead>\n  <tbody>\n    <tr>\n      <th>0</th>\n      <td>Apartamento</td>\n      <td>Centro</td>\n      <td>1</td>\n      <td>0</td>\n      <td>0</td>\n      <td>15</td>\n      <td>800.0</td>\n      <td>390.0</td>\n      <td>20.0</td>\n      <td>53.33</td>\n      <td>Apartamento</td>\n    </tr>\n    <tr>\n      <th>1</th>\n      <td>Apartamento</td>\n      <td>Higienópolis</td>\n      <td>1</td>\n      <td>0</td>\n      <td>0</td>\n      <td>48</td>\n      <td>800.0</td>\n      <td>230.0</td>\n      <td>0.0</td>\n      <td>16.67</td>\n      <td>Apartamento</td>\n    </tr>\n    <tr>\n      <th>2</th>\n      <td>Apartamento</td>\n      <td>Cachambi</td>\n      <td>2</td>\n      <td>0</td>\n      <td>0</td>\n      <td>50</td>\n      <td>1300.0</td>\n      <td>301.0</td>\n      <td>17.0</td>\n      <td>26.00</td>\n      <td>Apartamento</td>\n    </tr>\n    <tr>\n      <th>3</th>\n      <td>Apartamento</td>\n      <td>Grajaú</td>\n      <td>2</td>\n      <td>1</td>\n      <td>0</td>\n      <td>70</td>\n      <td>1500.0</td>\n      <td>642.0</td>\n      <td>74.0</td>\n      <td>21.43</td>\n      <td>Apartamento</td>\n    </tr>\n    <tr>\n      <th>4</th>\n      <td>Apartamento</td>\n      <td>Lins de Vasconcelos</td>\n      <td>3</td>\n      <td>1</td>\n      <td>1</td>\n      <td>90</td>\n      <td>1500.0</td>\n      <td>455.0</td>\n      <td>14.0</td>\n      <td>16.67</td>\n      <td>Apartamento</td>\n    </tr>\n    <tr>\n      <th>...</th>\n      <td>...</td>\n      <td>...</td>\n      <td>...</td>\n      <td>...</td>\n      <td>...</td>\n      <td>...</td>\n      <td>...</td>\n      <td>...</td>\n      <td>...</td>\n      <td>...</td>\n      <td>...</td>\n    </tr>\n    <tr>\n      <th>19826</th>\n      <td>Quitinete</td>\n      <td>Glória</td>\n      <td>1</td>\n      <td>0</td>\n      <td>0</td>\n      <td>10</td>\n      <td>400.0</td>\n      <td>107.0</td>\n      <td>10.0</td>\n      <td>40.00</td>\n      <td>Apartamento</td>\n    </tr>\n    <tr>\n      <th>19827</th>\n      <td>Quitinete</td>\n      <td>Flamengo</td>\n      <td>1</td>\n      <td>0</td>\n      <td>0</td>\n      <td>23</td>\n      <td>900.0</td>\n      <td>605.0</td>\n      <td>0.0</td>\n      <td>39.13</td>\n      <td>Apartamento</td>\n    </tr>\n    <tr>\n      <th>19828</th>\n      <td>Quitinete</td>\n      <td>Centro</td>\n      <td>1</td>\n      <td>0</td>\n      <td>0</td>\n      <td>24</td>\n      <td>1100.0</td>\n      <td>323.0</td>\n      <td>0.0</td>\n      <td>45.83</td>\n      <td>Apartamento</td>\n    </tr>\n    <tr>\n      <th>19829</th>\n      <td>Quitinete</td>\n      <td>Copacabana</td>\n      <td>1</td>\n      <td>0</td>\n      <td>0</td>\n      <td>22</td>\n      <td>1500.0</td>\n      <td>286.0</td>\n      <td>200.0</td>\n      <td>68.18</td>\n      <td>Apartamento</td>\n    </tr>\n    <tr>\n      <th>19830</th>\n      <td>Quitinete</td>\n      <td>Centro</td>\n      <td>0</td>\n      <td>0</td>\n      <td>0</td>\n      <td>27</td>\n      <td>800.0</td>\n      <td>350.0</td>\n      <td>25.0</td>\n      <td>29.63</td>\n      <td>Apartamento</td>\n    </tr>\n  </tbody>\n</table>\n<p>19831 rows × 11 columns</p>\n</div>"
     },
     "execution_count": 1,
     "metadata": {},
     "output_type": "execute_result"
    }
   ],
   "source": [
    "import pandas as pd\n",
    "df1 = pd.read_csv('extras/dados/aluguel.csv', sep=';')\n",
    "df1"
   ],
   "metadata": {
    "collapsed": false,
    "pycharm": {
     "name": "#%%\n"
    }
   }
  },
  {
   "cell_type": "code",
   "execution_count": 3,
   "outputs": [
    {
     "data": {
      "text/plain": "                      Tipo           Bairro  Quartos  Vagas  Suites  Area  \\\n0                Quitinete       Copacabana        1      0       0    40   \n1                     Casa  Jardim Botânico        2      0       1   100   \n2  Conjunto Comercial/Sala  Barra da Tijuca        0      4       0   150   \n3              Apartamento           Centro        1      0       0    15   \n4              Apartamento     Higienópolis        1      0       0    48   \n5              Apartamento     Vista Alegre        3      1       0    70   \n6              Apartamento         Cachambi        2      0       0    50   \n7       Casa de Condomínio  Barra da Tijuca        5      4       5   750   \n8       Casa de Condomínio            Ramos        2      2       0    65   \n9  Conjunto Comercial/Sala           Centro        0      3       0   695   \n\n   Valor  Condominio    IPTU  \n0   1700       500.0    60.0  \n1   7000         NaN     NaN  \n2   5200      4020.0  1111.0  \n3    800       390.0    20.0  \n4    800       230.0     NaN  \n5   1200         NaN     NaN  \n6   1300       301.0    17.0  \n7  22000         NaN     NaN  \n8   1000         NaN     NaN  \n9  35000     19193.0  3030.0  ",
      "text/html": "<div>\n<style scoped>\n    .dataframe tbody tr th:only-of-type {\n        vertical-align: middle;\n    }\n\n    .dataframe tbody tr th {\n        vertical-align: top;\n    }\n\n    .dataframe thead th {\n        text-align: right;\n    }\n</style>\n<table border=\"1\" class=\"dataframe\">\n  <thead>\n    <tr style=\"text-align: right;\">\n      <th></th>\n      <th>Tipo</th>\n      <th>Bairro</th>\n      <th>Quartos</th>\n      <th>Vagas</th>\n      <th>Suites</th>\n      <th>Area</th>\n      <th>Valor</th>\n      <th>Condominio</th>\n      <th>IPTU</th>\n    </tr>\n  </thead>\n  <tbody>\n    <tr>\n      <th>0</th>\n      <td>Quitinete</td>\n      <td>Copacabana</td>\n      <td>1</td>\n      <td>0</td>\n      <td>0</td>\n      <td>40</td>\n      <td>1700</td>\n      <td>500.0</td>\n      <td>60.0</td>\n    </tr>\n    <tr>\n      <th>1</th>\n      <td>Casa</td>\n      <td>Jardim Botânico</td>\n      <td>2</td>\n      <td>0</td>\n      <td>1</td>\n      <td>100</td>\n      <td>7000</td>\n      <td>NaN</td>\n      <td>NaN</td>\n    </tr>\n    <tr>\n      <th>2</th>\n      <td>Conjunto Comercial/Sala</td>\n      <td>Barra da Tijuca</td>\n      <td>0</td>\n      <td>4</td>\n      <td>0</td>\n      <td>150</td>\n      <td>5200</td>\n      <td>4020.0</td>\n      <td>1111.0</td>\n    </tr>\n    <tr>\n      <th>3</th>\n      <td>Apartamento</td>\n      <td>Centro</td>\n      <td>1</td>\n      <td>0</td>\n      <td>0</td>\n      <td>15</td>\n      <td>800</td>\n      <td>390.0</td>\n      <td>20.0</td>\n    </tr>\n    <tr>\n      <th>4</th>\n      <td>Apartamento</td>\n      <td>Higienópolis</td>\n      <td>1</td>\n      <td>0</td>\n      <td>0</td>\n      <td>48</td>\n      <td>800</td>\n      <td>230.0</td>\n      <td>NaN</td>\n    </tr>\n    <tr>\n      <th>5</th>\n      <td>Apartamento</td>\n      <td>Vista Alegre</td>\n      <td>3</td>\n      <td>1</td>\n      <td>0</td>\n      <td>70</td>\n      <td>1200</td>\n      <td>NaN</td>\n      <td>NaN</td>\n    </tr>\n    <tr>\n      <th>6</th>\n      <td>Apartamento</td>\n      <td>Cachambi</td>\n      <td>2</td>\n      <td>0</td>\n      <td>0</td>\n      <td>50</td>\n      <td>1300</td>\n      <td>301.0</td>\n      <td>17.0</td>\n    </tr>\n    <tr>\n      <th>7</th>\n      <td>Casa de Condomínio</td>\n      <td>Barra da Tijuca</td>\n      <td>5</td>\n      <td>4</td>\n      <td>5</td>\n      <td>750</td>\n      <td>22000</td>\n      <td>NaN</td>\n      <td>NaN</td>\n    </tr>\n    <tr>\n      <th>8</th>\n      <td>Casa de Condomínio</td>\n      <td>Ramos</td>\n      <td>2</td>\n      <td>2</td>\n      <td>0</td>\n      <td>65</td>\n      <td>1000</td>\n      <td>NaN</td>\n      <td>NaN</td>\n    </tr>\n    <tr>\n      <th>9</th>\n      <td>Conjunto Comercial/Sala</td>\n      <td>Centro</td>\n      <td>0</td>\n      <td>3</td>\n      <td>0</td>\n      <td>695</td>\n      <td>35000</td>\n      <td>19193.0</td>\n      <td>3030.0</td>\n    </tr>\n  </tbody>\n</table>\n</div>"
     },
     "execution_count": 3,
     "metadata": {},
     "output_type": "execute_result"
    }
   ],
   "source": [
    "df2 = pd.read_table('extras/dados/aluguel.txt')\n",
    "df2"
   ],
   "metadata": {
    "collapsed": false,
    "pycharm": {
     "name": "#%%\n"
    }
   }
  },
  {
   "cell_type": "code",
   "execution_count": 4,
   "outputs": [
    {
     "data": {
      "text/plain": "                      Tipo           Bairro  Quartos  Vagas  Suites  Area  \\\n0                Quitinete       Copacabana        1      0       0    40   \n1                     Casa  Jardim Botânico        2      0       1   100   \n2  Conjunto Comercial/Sala  Barra da Tijuca        0      4       0   150   \n3              Apartamento           Centro        1      0       0    15   \n4              Apartamento     Higienópolis        1      0       0    48   \n5              Apartamento     Vista Alegre        3      1       0    70   \n6              Apartamento         Cachambi        2      0       0    50   \n7       Casa de Condomínio  Barra da Tijuca        5      4       5   750   \n8       Casa de Condomínio            Ramos        2      2       0    65   \n9  Conjunto Comercial/Sala           Centro        0      3       0   695   \n\n   Valor  Condominio    IPTU  \n0   1700       500.0    60.0  \n1   7000         NaN     NaN  \n2   5200      4020.0  1111.0  \n3    800       390.0    20.0  \n4    800       230.0     NaN  \n5   1200         NaN     NaN  \n6   1300       301.0    17.0  \n7  22000         NaN     NaN  \n8   1000         NaN     NaN  \n9  35000     19193.0  3030.0  ",
      "text/html": "<div>\n<style scoped>\n    .dataframe tbody tr th:only-of-type {\n        vertical-align: middle;\n    }\n\n    .dataframe tbody tr th {\n        vertical-align: top;\n    }\n\n    .dataframe thead th {\n        text-align: right;\n    }\n</style>\n<table border=\"1\" class=\"dataframe\">\n  <thead>\n    <tr style=\"text-align: right;\">\n      <th></th>\n      <th>Tipo</th>\n      <th>Bairro</th>\n      <th>Quartos</th>\n      <th>Vagas</th>\n      <th>Suites</th>\n      <th>Area</th>\n      <th>Valor</th>\n      <th>Condominio</th>\n      <th>IPTU</th>\n    </tr>\n  </thead>\n  <tbody>\n    <tr>\n      <th>0</th>\n      <td>Quitinete</td>\n      <td>Copacabana</td>\n      <td>1</td>\n      <td>0</td>\n      <td>0</td>\n      <td>40</td>\n      <td>1700</td>\n      <td>500.0</td>\n      <td>60.0</td>\n    </tr>\n    <tr>\n      <th>1</th>\n      <td>Casa</td>\n      <td>Jardim Botânico</td>\n      <td>2</td>\n      <td>0</td>\n      <td>1</td>\n      <td>100</td>\n      <td>7000</td>\n      <td>NaN</td>\n      <td>NaN</td>\n    </tr>\n    <tr>\n      <th>2</th>\n      <td>Conjunto Comercial/Sala</td>\n      <td>Barra da Tijuca</td>\n      <td>0</td>\n      <td>4</td>\n      <td>0</td>\n      <td>150</td>\n      <td>5200</td>\n      <td>4020.0</td>\n      <td>1111.0</td>\n    </tr>\n    <tr>\n      <th>3</th>\n      <td>Apartamento</td>\n      <td>Centro</td>\n      <td>1</td>\n      <td>0</td>\n      <td>0</td>\n      <td>15</td>\n      <td>800</td>\n      <td>390.0</td>\n      <td>20.0</td>\n    </tr>\n    <tr>\n      <th>4</th>\n      <td>Apartamento</td>\n      <td>Higienópolis</td>\n      <td>1</td>\n      <td>0</td>\n      <td>0</td>\n      <td>48</td>\n      <td>800</td>\n      <td>230.0</td>\n      <td>NaN</td>\n    </tr>\n    <tr>\n      <th>5</th>\n      <td>Apartamento</td>\n      <td>Vista Alegre</td>\n      <td>3</td>\n      <td>1</td>\n      <td>0</td>\n      <td>70</td>\n      <td>1200</td>\n      <td>NaN</td>\n      <td>NaN</td>\n    </tr>\n    <tr>\n      <th>6</th>\n      <td>Apartamento</td>\n      <td>Cachambi</td>\n      <td>2</td>\n      <td>0</td>\n      <td>0</td>\n      <td>50</td>\n      <td>1300</td>\n      <td>301.0</td>\n      <td>17.0</td>\n    </tr>\n    <tr>\n      <th>7</th>\n      <td>Casa de Condomínio</td>\n      <td>Barra da Tijuca</td>\n      <td>5</td>\n      <td>4</td>\n      <td>5</td>\n      <td>750</td>\n      <td>22000</td>\n      <td>NaN</td>\n      <td>NaN</td>\n    </tr>\n    <tr>\n      <th>8</th>\n      <td>Casa de Condomínio</td>\n      <td>Ramos</td>\n      <td>2</td>\n      <td>2</td>\n      <td>0</td>\n      <td>65</td>\n      <td>1000</td>\n      <td>NaN</td>\n      <td>NaN</td>\n    </tr>\n    <tr>\n      <th>9</th>\n      <td>Conjunto Comercial/Sala</td>\n      <td>Centro</td>\n      <td>0</td>\n      <td>3</td>\n      <td>0</td>\n      <td>695</td>\n      <td>35000</td>\n      <td>19193.0</td>\n      <td>3030.0</td>\n    </tr>\n  </tbody>\n</table>\n</div>"
     },
     "execution_count": 4,
     "metadata": {},
     "output_type": "execute_result"
    }
   ],
   "source": [
    "df3 = pd.read_json('extras/dados/aluguel.json')\n",
    "df3"
   ],
   "metadata": {
    "collapsed": false,
    "pycharm": {
     "name": "#%%\n"
    }
   }
  },
  {
   "cell_type": "code",
   "execution_count": 8,
   "outputs": [
    {
     "data": {
      "text/plain": "              Tipo               Bairro  Quartos  Vagas  Suites  Area   Valor  \\\n0      Apartamento               Centro        1      0       0    15   800.0   \n1      Apartamento         Higienópolis        1      0       0    48   800.0   \n2      Apartamento             Cachambi        2      0       0    50  1300.0   \n3      Apartamento               Grajaú        2      1       0    70  1500.0   \n4      Apartamento  Lins de Vasconcelos        3      1       1    90  1500.0   \n...            ...                  ...      ...    ...     ...   ...     ...   \n19826    Quitinete               Glória        1      0       0    10   400.0   \n19827    Quitinete             Flamengo        1      0       0    23   900.0   \n19828    Quitinete               Centro        1      0       0    24  1100.0   \n19829    Quitinete           Copacabana        1      0       0    22  1500.0   \n19830    Quitinete               Centro        0      0       0    27   800.0   \n\n       Condominio   IPTU  Valor m2  ...    IPTU                     Tipo  \\\n0           390.0   20.0     53.33  ...    60.0                Quitinete   \n1           230.0    0.0     16.67  ...     NaN                     Casa   \n2           301.0   17.0     26.00  ...  1111.0  Conjunto Comercial/Sala   \n3           642.0   74.0     21.43  ...    20.0              Apartamento   \n4           455.0   14.0     16.67  ...     NaN              Apartamento   \n...           ...    ...       ...  ...     ...                      ...   \n19826       107.0   10.0     40.00  ...     NaN                      NaN   \n19827       605.0    0.0     39.13  ...     NaN                      NaN   \n19828       323.0    0.0     45.83  ...     NaN                      NaN   \n19829       286.0  200.0     68.18  ...     NaN                      NaN   \n19830       350.0   25.0     29.63  ...     NaN                      NaN   \n\n                Bairro  Quartos  Vagas  Suites   Area   Valor  Condominio  \\\n0           Copacabana      1.0    0.0     0.0   40.0  1700.0       500.0   \n1      Jardim Botânico      2.0    0.0     1.0  100.0  7000.0         NaN   \n2      Barra da Tijuca      0.0    4.0     0.0  150.0  5200.0      4020.0   \n3               Centro      1.0    0.0     0.0   15.0   800.0       390.0   \n4         Higienópolis      1.0    0.0     0.0   48.0   800.0       230.0   \n...                ...      ...    ...     ...    ...     ...         ...   \n19826              NaN      NaN    NaN     NaN    NaN     NaN         NaN   \n19827              NaN      NaN    NaN     NaN    NaN     NaN         NaN   \n19828              NaN      NaN    NaN     NaN    NaN     NaN         NaN   \n19829              NaN      NaN    NaN     NaN    NaN     NaN         NaN   \n19830              NaN      NaN    NaN     NaN    NaN     NaN         NaN   \n\n         IPTU  \n0        60.0  \n1         NaN  \n2      1111.0  \n3        20.0  \n4         NaN  \n...       ...  \n19826     NaN  \n19827     NaN  \n19828     NaN  \n19829     NaN  \n19830     NaN  \n\n[19831 rows x 29 columns]",
      "text/html": "<div>\n<style scoped>\n    .dataframe tbody tr th:only-of-type {\n        vertical-align: middle;\n    }\n\n    .dataframe tbody tr th {\n        vertical-align: top;\n    }\n\n    .dataframe thead th {\n        text-align: right;\n    }\n</style>\n<table border=\"1\" class=\"dataframe\">\n  <thead>\n    <tr style=\"text-align: right;\">\n      <th></th>\n      <th>Tipo</th>\n      <th>Bairro</th>\n      <th>Quartos</th>\n      <th>Vagas</th>\n      <th>Suites</th>\n      <th>Area</th>\n      <th>Valor</th>\n      <th>Condominio</th>\n      <th>IPTU</th>\n      <th>Valor m2</th>\n      <th>...</th>\n      <th>IPTU</th>\n      <th>Tipo</th>\n      <th>Bairro</th>\n      <th>Quartos</th>\n      <th>Vagas</th>\n      <th>Suites</th>\n      <th>Area</th>\n      <th>Valor</th>\n      <th>Condominio</th>\n      <th>IPTU</th>\n    </tr>\n  </thead>\n  <tbody>\n    <tr>\n      <th>0</th>\n      <td>Apartamento</td>\n      <td>Centro</td>\n      <td>1</td>\n      <td>0</td>\n      <td>0</td>\n      <td>15</td>\n      <td>800.0</td>\n      <td>390.0</td>\n      <td>20.0</td>\n      <td>53.33</td>\n      <td>...</td>\n      <td>60.0</td>\n      <td>Quitinete</td>\n      <td>Copacabana</td>\n      <td>1.0</td>\n      <td>0.0</td>\n      <td>0.0</td>\n      <td>40.0</td>\n      <td>1700.0</td>\n      <td>500.0</td>\n      <td>60.0</td>\n    </tr>\n    <tr>\n      <th>1</th>\n      <td>Apartamento</td>\n      <td>Higienópolis</td>\n      <td>1</td>\n      <td>0</td>\n      <td>0</td>\n      <td>48</td>\n      <td>800.0</td>\n      <td>230.0</td>\n      <td>0.0</td>\n      <td>16.67</td>\n      <td>...</td>\n      <td>NaN</td>\n      <td>Casa</td>\n      <td>Jardim Botânico</td>\n      <td>2.0</td>\n      <td>0.0</td>\n      <td>1.0</td>\n      <td>100.0</td>\n      <td>7000.0</td>\n      <td>NaN</td>\n      <td>NaN</td>\n    </tr>\n    <tr>\n      <th>2</th>\n      <td>Apartamento</td>\n      <td>Cachambi</td>\n      <td>2</td>\n      <td>0</td>\n      <td>0</td>\n      <td>50</td>\n      <td>1300.0</td>\n      <td>301.0</td>\n      <td>17.0</td>\n      <td>26.00</td>\n      <td>...</td>\n      <td>1111.0</td>\n      <td>Conjunto Comercial/Sala</td>\n      <td>Barra da Tijuca</td>\n      <td>0.0</td>\n      <td>4.0</td>\n      <td>0.0</td>\n      <td>150.0</td>\n      <td>5200.0</td>\n      <td>4020.0</td>\n      <td>1111.0</td>\n    </tr>\n    <tr>\n      <th>3</th>\n      <td>Apartamento</td>\n      <td>Grajaú</td>\n      <td>2</td>\n      <td>1</td>\n      <td>0</td>\n      <td>70</td>\n      <td>1500.0</td>\n      <td>642.0</td>\n      <td>74.0</td>\n      <td>21.43</td>\n      <td>...</td>\n      <td>20.0</td>\n      <td>Apartamento</td>\n      <td>Centro</td>\n      <td>1.0</td>\n      <td>0.0</td>\n      <td>0.0</td>\n      <td>15.0</td>\n      <td>800.0</td>\n      <td>390.0</td>\n      <td>20.0</td>\n    </tr>\n    <tr>\n      <th>4</th>\n      <td>Apartamento</td>\n      <td>Lins de Vasconcelos</td>\n      <td>3</td>\n      <td>1</td>\n      <td>1</td>\n      <td>90</td>\n      <td>1500.0</td>\n      <td>455.0</td>\n      <td>14.0</td>\n      <td>16.67</td>\n      <td>...</td>\n      <td>NaN</td>\n      <td>Apartamento</td>\n      <td>Higienópolis</td>\n      <td>1.0</td>\n      <td>0.0</td>\n      <td>0.0</td>\n      <td>48.0</td>\n      <td>800.0</td>\n      <td>230.0</td>\n      <td>NaN</td>\n    </tr>\n    <tr>\n      <th>...</th>\n      <td>...</td>\n      <td>...</td>\n      <td>...</td>\n      <td>...</td>\n      <td>...</td>\n      <td>...</td>\n      <td>...</td>\n      <td>...</td>\n      <td>...</td>\n      <td>...</td>\n      <td>...</td>\n      <td>...</td>\n      <td>...</td>\n      <td>...</td>\n      <td>...</td>\n      <td>...</td>\n      <td>...</td>\n      <td>...</td>\n      <td>...</td>\n      <td>...</td>\n      <td>...</td>\n    </tr>\n    <tr>\n      <th>19826</th>\n      <td>Quitinete</td>\n      <td>Glória</td>\n      <td>1</td>\n      <td>0</td>\n      <td>0</td>\n      <td>10</td>\n      <td>400.0</td>\n      <td>107.0</td>\n      <td>10.0</td>\n      <td>40.00</td>\n      <td>...</td>\n      <td>NaN</td>\n      <td>NaN</td>\n      <td>NaN</td>\n      <td>NaN</td>\n      <td>NaN</td>\n      <td>NaN</td>\n      <td>NaN</td>\n      <td>NaN</td>\n      <td>NaN</td>\n      <td>NaN</td>\n    </tr>\n    <tr>\n      <th>19827</th>\n      <td>Quitinete</td>\n      <td>Flamengo</td>\n      <td>1</td>\n      <td>0</td>\n      <td>0</td>\n      <td>23</td>\n      <td>900.0</td>\n      <td>605.0</td>\n      <td>0.0</td>\n      <td>39.13</td>\n      <td>...</td>\n      <td>NaN</td>\n      <td>NaN</td>\n      <td>NaN</td>\n      <td>NaN</td>\n      <td>NaN</td>\n      <td>NaN</td>\n      <td>NaN</td>\n      <td>NaN</td>\n      <td>NaN</td>\n      <td>NaN</td>\n    </tr>\n    <tr>\n      <th>19828</th>\n      <td>Quitinete</td>\n      <td>Centro</td>\n      <td>1</td>\n      <td>0</td>\n      <td>0</td>\n      <td>24</td>\n      <td>1100.0</td>\n      <td>323.0</td>\n      <td>0.0</td>\n      <td>45.83</td>\n      <td>...</td>\n      <td>NaN</td>\n      <td>NaN</td>\n      <td>NaN</td>\n      <td>NaN</td>\n      <td>NaN</td>\n      <td>NaN</td>\n      <td>NaN</td>\n      <td>NaN</td>\n      <td>NaN</td>\n      <td>NaN</td>\n    </tr>\n    <tr>\n      <th>19829</th>\n      <td>Quitinete</td>\n      <td>Copacabana</td>\n      <td>1</td>\n      <td>0</td>\n      <td>0</td>\n      <td>22</td>\n      <td>1500.0</td>\n      <td>286.0</td>\n      <td>200.0</td>\n      <td>68.18</td>\n      <td>...</td>\n      <td>NaN</td>\n      <td>NaN</td>\n      <td>NaN</td>\n      <td>NaN</td>\n      <td>NaN</td>\n      <td>NaN</td>\n      <td>NaN</td>\n      <td>NaN</td>\n      <td>NaN</td>\n      <td>NaN</td>\n    </tr>\n    <tr>\n      <th>19830</th>\n      <td>Quitinete</td>\n      <td>Centro</td>\n      <td>0</td>\n      <td>0</td>\n      <td>0</td>\n      <td>27</td>\n      <td>800.0</td>\n      <td>350.0</td>\n      <td>25.0</td>\n      <td>29.63</td>\n      <td>...</td>\n      <td>NaN</td>\n      <td>NaN</td>\n      <td>NaN</td>\n      <td>NaN</td>\n      <td>NaN</td>\n      <td>NaN</td>\n      <td>NaN</td>\n      <td>NaN</td>\n      <td>NaN</td>\n      <td>NaN</td>\n    </tr>\n  </tbody>\n</table>\n<p>19831 rows × 29 columns</p>\n</div>"
     },
     "execution_count": 8,
     "metadata": {},
     "output_type": "execute_result"
    }
   ],
   "source": [
    "df4 = pd.concat([df1,df2,df3], axis=1)\n",
    "df4"
   ],
   "metadata": {
    "collapsed": false,
    "pycharm": {
     "name": "#%%\n"
    }
   }
  }
 ],
 "metadata": {
  "kernelspec": {
   "display_name": "Python 3",
   "language": "python",
   "name": "python3"
  },
  "language_info": {
   "codemirror_mode": {
    "name": "ipython",
    "version": 2
   },
   "file_extension": ".py",
   "mimetype": "text/x-python",
   "name": "python",
   "nbconvert_exporter": "python",
   "pygments_lexer": "ipython2",
   "version": "2.7.6"
  }
 },
 "nbformat": 4,
 "nbformat_minor": 0
}