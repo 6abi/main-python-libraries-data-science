{
 "cells": [
  {
   "cell_type": "markdown",
   "source": [
    "Trabalhando com arrays Numpy"
   ],
   "metadata": {
    "collapsed": false
   }
  },
  {
   "cell_type": "code",
   "execution_count": 38,
   "outputs": [],
   "source": [
    "import numpy as np\n",
    "import os"
   ],
   "metadata": {
    "collapsed": false,
    "pycharm": {
     "name": "#%%\n"
    }
   }
  },
  {
   "cell_type": "markdown",
   "source": [
    "Carregando arquivos txt"
   ],
   "metadata": {
    "collapsed": false
   }
  },
  {
   "cell_type": "code",
   "execution_count": 39,
   "outputs": [
    {
     "name": "stdout",
     "output_type": "stream",
     "text": [
      "[4.44100e+04 5.71200e+03 3.71230e+04 0.00000e+00 2.57570e+04 1.07280e+04\n",
      " 0.00000e+00 7.75990e+04 9.91970e+04 3.79780e+04 1.28590e+04 8.05200e+03\n",
      " 8.97730e+04 0.00000e+00 4.14570e+04 1.15607e+05 4.64490e+04 0.00000e+00\n",
      " 3.70860e+04 1.51730e+04 1.01193e+05 0.00000e+00 9.80790e+04 1.02959e+05\n",
      " 0.00000e+00 0.00000e+00 5.79500e+03 0.00000e+00 5.88480e+04 9.43810e+04\n",
      " 3.01630e+04 5.33320e+04 1.77200e+04 3.38080e+04 9.06840e+04 4.39750e+04\n",
      " 0.00000e+00 0.00000e+00 5.52600e+03 0.00000e+00 9.34150e+04 4.07620e+04\n",
      " 0.00000e+00 8.63020e+04 0.00000e+00 9.75500e+03 6.99450e+04 2.39500e+03\n",
      " 0.00000e+00 8.03490e+04 8.55540e+04 5.04960e+04 6.77160e+04 9.39470e+04\n",
      " 3.53450e+04 8.10070e+04 1.19513e+05 0.00000e+00 0.00000e+00 0.00000e+00\n",
      " 0.00000e+00 0.00000e+00 1.18895e+05 4.85090e+04 1.00912e+05 9.56490e+04\n",
      " 0.00000e+00 9.04950e+04 0.00000e+00 2.91320e+04 2.38020e+04 8.49920e+04\n",
      " 5.43950e+04 2.67310e+04 4.43290e+04 1.18236e+05 1.13808e+05 6.10000e+02\n",
      " 0.00000e+00 0.00000e+00 1.28870e+04 7.96070e+04 9.09240e+04 4.27330e+04\n",
      " 0.00000e+00 0.00000e+00 1.17714e+05 1.13885e+05 0.00000e+00 3.05110e+04\n",
      " 7.48670e+04 1.19760e+05 8.35600e+03 6.42470e+04 8.86610e+04 4.53900e+03\n",
      " 1.10116e+05 3.32150e+04 9.20010e+04 0.00000e+00 8.17080e+04 7.06410e+04\n",
      " 0.00000e+00 9.12770e+04 2.65440e+04 5.25960e+04 4.75030e+04 8.90560e+04\n",
      " 2.88340e+04 1.10564e+05 5.66380e+04 1.73570e+04 7.40150e+04 1.51960e+04\n",
      " 0.00000e+00 1.08210e+04 0.00000e+00 0.00000e+00 9.59500e+03 9.90520e+04\n",
      " 5.23890e+04 1.19945e+05 9.60050e+04 3.16390e+04 0.00000e+00 8.01870e+04\n",
      " 0.00000e+00 5.82120e+04 6.16720e+04 3.20170e+04 0.00000e+00 5.69440e+04\n",
      " 0.00000e+00 8.65190e+04 4.82100e+03 1.01025e+05 3.07050e+04 0.00000e+00\n",
      " 3.25550e+04 1.03389e+05 0.00000e+00 5.52890e+04 0.00000e+00 0.00000e+00\n",
      " 1.15930e+05 6.64370e+04 9.68000e+04 1.42370e+04 1.98960e+04 1.13045e+05\n",
      " 1.14942e+05 3.17300e+03 8.36110e+04 2.53560e+04 8.86340e+04 2.31400e+03\n",
      " 2.62700e+03 5.20340e+04 0.00000e+00 0.00000e+00 7.95770e+04 1.08201e+05\n",
      " 7.64530e+04 5.76830e+04 9.66100e+04 1.09001e+05 2.62120e+04 4.59710e+04\n",
      " 4.91820e+04 4.99070e+04 3.86200e+04 6.09960e+04 7.39140e+04 1.07392e+05\n",
      " 9.14600e+03 0.00000e+00 1.79240e+04 0.00000e+00 1.16949e+05 2.04760e+04\n",
      " 5.28040e+04 8.84900e+03 9.17240e+04 3.20560e+04 7.48860e+04 0.00000e+00\n",
      " 0.00000e+00 5.21890e+04 8.35590e+04 0.00000e+00 2.03280e+04 0.00000e+00\n",
      " 7.55770e+04 3.36590e+04 1.04341e+05 2.55100e+04 1.89650e+04 8.71610e+04\n",
      " 6.65200e+03 5.57380e+04 0.00000e+00 0.00000e+00 0.00000e+00 6.43200e+04\n",
      " 0.00000e+00 6.86780e+04 7.16970e+04 0.00000e+00 3.47830e+04 3.37720e+04\n",
      " 8.51270e+04 1.36060e+04 3.56470e+04 9.51280e+04 1.40460e+04 4.11940e+04\n",
      " 0.00000e+00 9.61000e+04 1.03900e+05 4.38140e+04 2.46380e+04 0.00000e+00\n",
      " 1.10966e+05 1.59870e+04 5.33690e+04 1.00770e+04 7.15440e+04 1.07000e+02\n",
      " 8.39400e+03 4.14980e+04 1.16002e+05 1.00858e+05 6.74750e+04 8.49700e+03\n",
      " 4.42000e+03 0.00000e+00 5.85370e+04 0.00000e+00 0.00000e+00 1.12016e+05\n",
      " 9.18400e+04 1.12787e+05 0.00000e+00 0.00000e+00 9.29300e+03 0.00000e+00\n",
      " 5.50830e+04 4.87960e+04 0.00000e+00 8.96850e+04 8.53840e+04 9.81080e+04\n",
      " 7.12800e+04 2.75050e+04 2.99810e+04 5.26370e+04 7.68500e+03 5.01880e+04]\n"
     ]
    }
   ],
   "source": [
    "file_name1 = os.path.join('./data/', \"carros-km.txt\")\n",
    "km = np.loadtxt(file_name1)\n",
    "print(km)"
   ],
   "metadata": {
    "collapsed": false,
    "pycharm": {
     "name": "#%%\n"
    }
   }
  },
  {
   "cell_type": "code",
   "execution_count": 40,
   "outputs": [
    {
     "name": "stdout",
     "output_type": "stream",
     "text": [
      "[2003 1991 1990 2019 2006 2012 2019 2009 2010 2011 2002 2007 2001 2019\n",
      " 2009 2016 2012 2019 2016 2017 2002 2019 1994 1991 2019 2019 2016 2019\n",
      " 2002 1991 1997 1995 2018 1991 2014 1995 2019 2019 2009 2019 2013 2003\n",
      " 2019 2002 2019 2002 2004 2001 2019 2003 2009 2006 2000 2006 2010 1994\n",
      " 2007 2019 2019 2019 2019 2019 2017 2011 2001 1996 2019 1994 2019 2007\n",
      " 1994 2007 1997 2006 2013 1994 2008 2008 2019 2019 1999 2007 1993 1995\n",
      " 2019 2019 2016 2011 2019 2002 2013 2017 2016 2008 2018 2003 2003 2004\n",
      " 2010 2019 2006 2001 2019 2015 2018 2017 1992 2001 1993 1995 2003 2014\n",
      " 2008 2013 2019 2017 2019 2019 2006 2015 2007 2005 2017 1998 2019 1999\n",
      " 2019 2009 2003 1994 2019 1994 2019 2015 1996 1997 1993 2019 1992 1995\n",
      " 2019 1990 2019 2019 1991 1990 2012 2007 2013 2000 2002 1996 1996 2015\n",
      " 1993 2013 2013 2009 2019 2019 2002 1997 1998 2004 1996 2015 2016 2005\n",
      " 1999 1995 1993 2004 2013 1998 2018 2019 2018 2019 1990 2009 1990 2006\n",
      " 2002 1991 1992 2019 2019 2005 2010 2019 2016 2019 2010 1994 2001 2014\n",
      " 1996 1993 1993 2001 2019 2019 2019 2007 2019 2016 2014 2019 2015 2015\n",
      " 1996 2002 2005 1995 1999 2005 2019 1997 1990 2001 2013 2019 2017 2011\n",
      " 2005 2007 1993 1991 1991 1997 2000 2007 2006 2015 2008 2019 1996 2019\n",
      " 2019 2014 2004 2008 2019 2019 2012 2019 1996 2011 2019 2010 2007 1994\n",
      " 2007 2014 1991 2002 1996 1992]\n"
     ]
    }
   ],
   "source": [
    "file_name2 = os.path.join('./data/', \"carros-anos.txt\")\n",
    "anos = np.loadtxt(file_name2, dtype=int)\n",
    "print(anos)\n"
   ],
   "metadata": {
    "collapsed": false,
    "pycharm": {
     "name": "#%%\n"
    }
   }
  },
  {
   "cell_type": "markdown",
   "source": [
    "Percorrendo o numpy"
   ],
   "metadata": {
    "collapsed": false
   }
  },
  {
   "cell_type": "code",
   "execution_count": 41,
   "outputs": [
    {
     "name": "stdout",
     "output_type": "stream",
     "text": [
      "44410.0 2003\n",
      "5712.0 1991\n",
      "37123.0 1990\n",
      "0.0 2019\n",
      "25757.0 2006\n",
      "10728.0 2012\n",
      "0.0 2019\n",
      "77599.0 2009\n",
      "99197.0 2010\n",
      "37978.0 2011\n",
      "12859.0 2002\n",
      "8052.0 2007\n",
      "89773.0 2001\n",
      "0.0 2019\n",
      "41457.0 2009\n",
      "115607.0 2016\n",
      "46449.0 2012\n",
      "0.0 2019\n",
      "37086.0 2016\n",
      "15173.0 2017\n",
      "101193.0 2002\n",
      "0.0 2019\n",
      "98079.0 1994\n",
      "102959.0 1991\n",
      "0.0 2019\n",
      "0.0 2019\n",
      "5795.0 2016\n",
      "0.0 2019\n",
      "58848.0 2002\n",
      "94381.0 1991\n",
      "30163.0 1997\n",
      "53332.0 1995\n",
      "17720.0 2018\n",
      "33808.0 1991\n",
      "90684.0 2014\n",
      "43975.0 1995\n",
      "0.0 2019\n",
      "0.0 2019\n",
      "5526.0 2009\n",
      "0.0 2019\n",
      "93415.0 2013\n",
      "40762.0 2003\n",
      "0.0 2019\n",
      "86302.0 2002\n",
      "0.0 2019\n",
      "9755.0 2002\n",
      "69945.0 2004\n",
      "2395.0 2001\n",
      "0.0 2019\n",
      "80349.0 2003\n",
      "85554.0 2009\n",
      "50496.0 2006\n",
      "67716.0 2000\n",
      "93947.0 2006\n",
      "35345.0 2010\n",
      "81007.0 1994\n",
      "119513.0 2007\n",
      "0.0 2019\n",
      "0.0 2019\n",
      "0.0 2019\n",
      "0.0 2019\n",
      "0.0 2019\n",
      "118895.0 2017\n",
      "48509.0 2011\n",
      "100912.0 2001\n",
      "95649.0 1996\n",
      "0.0 2019\n",
      "90495.0 1994\n",
      "0.0 2019\n",
      "29132.0 2007\n",
      "23802.0 1994\n",
      "84992.0 2007\n",
      "54395.0 1997\n",
      "26731.0 2006\n",
      "44329.0 2013\n",
      "118236.0 1994\n",
      "113808.0 2008\n",
      "610.0 2008\n",
      "0.0 2019\n",
      "0.0 2019\n",
      "12887.0 1999\n",
      "79607.0 2007\n",
      "90924.0 1993\n",
      "42733.0 1995\n",
      "0.0 2019\n",
      "0.0 2019\n",
      "117714.0 2016\n",
      "113885.0 2011\n",
      "0.0 2019\n",
      "30511.0 2002\n",
      "74867.0 2013\n",
      "119760.0 2017\n",
      "8356.0 2016\n",
      "64247.0 2008\n",
      "88661.0 2018\n",
      "4539.0 2003\n",
      "110116.0 2003\n",
      "33215.0 2004\n",
      "92001.0 2010\n",
      "0.0 2019\n",
      "81708.0 2006\n",
      "70641.0 2001\n",
      "0.0 2019\n",
      "91277.0 2015\n",
      "26544.0 2018\n",
      "52596.0 2017\n",
      "47503.0 1992\n",
      "89056.0 2001\n",
      "28834.0 1993\n",
      "110564.0 1995\n",
      "56638.0 2003\n",
      "17357.0 2014\n",
      "74015.0 2008\n",
      "15196.0 2013\n",
      "0.0 2019\n",
      "10821.0 2017\n",
      "0.0 2019\n",
      "0.0 2019\n",
      "9595.0 2006\n",
      "99052.0 2015\n",
      "52389.0 2007\n",
      "119945.0 2005\n",
      "96005.0 2017\n",
      "31639.0 1998\n",
      "0.0 2019\n",
      "80187.0 1999\n",
      "0.0 2019\n",
      "58212.0 2009\n",
      "61672.0 2003\n",
      "32017.0 1994\n",
      "0.0 2019\n",
      "56944.0 1994\n",
      "0.0 2019\n",
      "86519.0 2015\n",
      "4821.0 1996\n",
      "101025.0 1997\n",
      "30705.0 1993\n",
      "0.0 2019\n",
      "32555.0 1992\n",
      "103389.0 1995\n",
      "0.0 2019\n",
      "55289.0 1990\n",
      "0.0 2019\n",
      "0.0 2019\n",
      "115930.0 1991\n",
      "66437.0 1990\n",
      "96800.0 2012\n",
      "14237.0 2007\n",
      "19896.0 2013\n",
      "113045.0 2000\n",
      "114942.0 2002\n",
      "3173.0 1996\n",
      "83611.0 1996\n",
      "25356.0 2015\n",
      "88634.0 1993\n",
      "2314.0 2013\n",
      "2627.0 2013\n",
      "52034.0 2009\n",
      "0.0 2019\n",
      "0.0 2019\n",
      "79577.0 2002\n",
      "108201.0 1997\n",
      "76453.0 1998\n",
      "57683.0 2004\n",
      "96610.0 1996\n",
      "109001.0 2015\n",
      "26212.0 2016\n",
      "45971.0 2005\n",
      "49182.0 1999\n",
      "49907.0 1995\n",
      "38620.0 1993\n",
      "60996.0 2004\n",
      "73914.0 2013\n",
      "107392.0 1998\n",
      "9146.0 2018\n",
      "0.0 2019\n",
      "17924.0 2018\n",
      "0.0 2019\n",
      "116949.0 1990\n",
      "20476.0 2009\n",
      "52804.0 1990\n",
      "8849.0 2006\n",
      "91724.0 2002\n",
      "32056.0 1991\n",
      "74886.0 1992\n",
      "0.0 2019\n",
      "0.0 2019\n",
      "52189.0 2005\n",
      "83559.0 2010\n",
      "0.0 2019\n",
      "20328.0 2016\n",
      "0.0 2019\n",
      "75577.0 2010\n",
      "33659.0 1994\n",
      "104341.0 2001\n",
      "25510.0 2014\n",
      "18965.0 1996\n",
      "87161.0 1993\n",
      "6652.0 1993\n",
      "55738.0 2001\n",
      "0.0 2019\n",
      "0.0 2019\n",
      "0.0 2019\n",
      "64320.0 2007\n",
      "0.0 2019\n",
      "68678.0 2016\n",
      "71697.0 2014\n",
      "0.0 2019\n",
      "34783.0 2015\n",
      "33772.0 2015\n",
      "85127.0 1996\n",
      "13606.0 2002\n",
      "35647.0 2005\n",
      "95128.0 1995\n",
      "14046.0 1999\n",
      "41194.0 2005\n",
      "0.0 2019\n",
      "96100.0 1997\n",
      "103900.0 1990\n",
      "43814.0 2001\n",
      "24638.0 2013\n",
      "0.0 2019\n",
      "110966.0 2017\n",
      "15987.0 2011\n",
      "53369.0 2005\n",
      "10077.0 2007\n",
      "71544.0 1993\n",
      "107.0 1991\n",
      "8394.0 1991\n",
      "41498.0 1997\n",
      "116002.0 2000\n",
      "100858.0 2007\n",
      "67475.0 2006\n",
      "8497.0 2015\n",
      "4420.0 2008\n",
      "0.0 2019\n",
      "58537.0 1996\n",
      "0.0 2019\n",
      "0.0 2019\n",
      "112016.0 2014\n",
      "91840.0 2004\n",
      "112787.0 2008\n",
      "0.0 2019\n",
      "0.0 2019\n",
      "9293.0 2012\n",
      "0.0 2019\n",
      "55083.0 1996\n",
      "48796.0 2011\n",
      "0.0 2019\n",
      "89685.0 2010\n",
      "85384.0 2007\n",
      "98108.0 1994\n",
      "71280.0 2007\n",
      "27505.0 2014\n",
      "29981.0 1991\n",
      "52637.0 2002\n",
      "7685.0 1996\n",
      "50188.0 1992\n"
     ]
    }
   ],
   "source": [
    "for i in range(len(km)):\n",
    "    print(km[i], anos[i])"
   ],
   "metadata": {
    "collapsed": false,
    "pycharm": {
     "name": "#%%\n"
    }
   }
  },
  {
   "cell_type": "markdown",
   "source": [
    "List comprehensions"
   ],
   "metadata": {
    "collapsed": false
   }
  },
  {
   "cell_type": "code",
   "execution_count": 42,
   "outputs": [
    {
     "data": {
      "text/plain": "[0, 1, 2, 3, 4, 5, 6, 7, 8, 9]"
     },
     "execution_count": 42,
     "metadata": {},
     "output_type": "execute_result"
    }
   ],
   "source": [
    "[i for i in range(10)]"
   ],
   "metadata": {
    "collapsed": false,
    "pycharm": {
     "name": "#%%\n"
    }
   }
  },
  {
   "cell_type": "markdown",
   "source": [
    "Loops aninhados"
   ],
   "metadata": {
    "collapsed": false
   }
  },
  {
   "cell_type": "code",
   "execution_count": 43,
   "outputs": [],
   "source": [
    "dados = [\n",
    "    ['Rodas de liga', 'Travas elétricas', 'Piloto automático', 'Bancos de couro', 'Ar condicionado', 'Sensor de estacionamento', 'Sensor crepuscular', 'Sensor de chuva'],\n",
    "    ['Central multimídia', 'Teto panorâmico', 'Freios ABS', '4 X 4', 'Painel digital', 'Piloto automático', 'Bancos de couro', 'Câmera de estacionamento'],\n",
    "    ['Piloto automático', 'Controle de estabilidade', 'Sensor crepuscular', 'Freios ABS', 'Câmbio automático', 'Bancos de couro', 'Central multimídia', 'Vidros elétricos']\n",
    "]"
   ],
   "metadata": {
    "collapsed": false,
    "pycharm": {
     "name": "#%%\n"
    }
   }
  },
  {
   "cell_type": "code",
   "execution_count": 44,
   "outputs": [
    {
     "name": "stdout",
     "output_type": "stream",
     "text": [
      "Rodas de liga\n",
      "Travas elétricas\n",
      "Piloto automático\n",
      "Bancos de couro\n",
      "Ar condicionado\n",
      "Sensor de estacionamento\n",
      "Sensor crepuscular\n",
      "Sensor de chuva\n",
      "Central multimídia\n",
      "Teto panorâmico\n",
      "Freios ABS\n",
      "4 X 4\n",
      "Painel digital\n",
      "Piloto automático\n",
      "Bancos de couro\n",
      "Câmera de estacionamento\n",
      "Piloto automático\n",
      "Controle de estabilidade\n",
      "Sensor crepuscular\n",
      "Freios ABS\n",
      "Câmbio automático\n",
      "Bancos de couro\n",
      "Central multimídia\n",
      "Vidros elétricos\n"
     ]
    }
   ],
   "source": [
    "for lista in dados:\n",
    "    for item in lista:\n",
    "        acessorios = np.array(item)\n",
    "        print(acessorios)"
   ],
   "metadata": {
    "collapsed": false,
    "pycharm": {
     "name": "#%%\n"
    }
   }
  },
  {
   "cell_type": "markdown",
   "source": [
    "List comprehensions e sem duplicatas"
   ],
   "metadata": {
    "collapsed": false
   }
  },
  {
   "cell_type": "code",
   "execution_count": 45,
   "outputs": [
    {
     "data": {
      "text/plain": "['Câmera de estacionamento',\n 'Vidros elétricos',\n 'Central multimídia',\n 'Controle de estabilidade',\n 'Sensor de estacionamento',\n 'Sensor crepuscular',\n 'Rodas de liga',\n 'Freios ABS',\n 'Travas elétricas',\n 'Teto panorâmico',\n 'Piloto automático',\n 'Painel digital',\n 'Ar condicionado',\n 'Sensor de chuva',\n 'Bancos de couro',\n '4 X 4',\n 'Câmbio automático']"
     },
     "execution_count": 45,
     "metadata": {},
     "output_type": "execute_result"
    }
   ],
   "source": [
    "list(set([item for lista in dados for item in lista]))"
   ],
   "metadata": {
    "collapsed": false,
    "pycharm": {
     "name": "#%%\n"
    }
   }
  },
  {
   "cell_type": "markdown",
   "source": [
    "Arrays 2D numpy"
   ],
   "metadata": {
    "collapsed": false
   }
  },
  {
   "cell_type": "code",
   "execution_count": 46,
   "outputs": [
    {
     "name": "stdout",
     "output_type": "stream",
     "text": [
      "(3, 8)\n",
      "[['Rodas de liga' 'Travas elétricas' 'Piloto automático'\n",
      "  'Bancos de couro' 'Ar condicionado' 'Sensor de estacionamento'\n",
      "  'Sensor crepuscular' 'Sensor de chuva']\n",
      " ['Central multimídia' 'Teto panorâmico' 'Freios ABS' '4 X 4'\n",
      "  'Painel digital' 'Piloto automático' 'Bancos de couro'\n",
      "  'Câmera de estacionamento']\n",
      " ['Piloto automático' 'Controle de estabilidade' 'Sensor crepuscular'\n",
      "  'Freios ABS' 'Câmbio automático' 'Bancos de couro' 'Central multimídia'\n",
      "  'Vidros elétricos']]\n"
     ]
    }
   ],
   "source": [
    "acessorios = np.array(dados)\n",
    "print(acessorios.shape)\n",
    "print(acessorios)"
   ],
   "metadata": {
    "collapsed": false,
    "pycharm": {
     "name": "#%%\n"
    }
   }
  },
  {
   "cell_type": "markdown",
   "source": [
    "Comparando desempenho Numpy e Python list\n"
   ],
   "metadata": {
    "collapsed": false
   }
  },
  {
   "cell_type": "code",
   "execution_count": 47,
   "outputs": [],
   "source": [
    "np_array = np.arange(1000000)\n",
    "py_list = list(range(1000000))"
   ],
   "metadata": {
    "collapsed": false,
    "pycharm": {
     "name": "#%%\n"
    }
   }
  },
  {
   "cell_type": "code",
   "execution_count": 48,
   "outputs": [
    {
     "name": "stdout",
     "output_type": "stream",
     "text": [
      "Wall time: 46 ms\n"
     ]
    }
   ],
   "source": [
    "%time for _ in range(100): np_array *= 2"
   ],
   "metadata": {
    "collapsed": false,
    "pycharm": {
     "name": "#%%\n"
    }
   }
  },
  {
   "cell_type": "code",
   "execution_count": 49,
   "outputs": [
    {
     "name": "stdout",
     "output_type": "stream",
     "text": [
      "Wall time: 10.3 s\n"
     ]
    }
   ],
   "source": [
    "#Com list comprehensions\n",
    "%time for _ in range(100): py_list = [x * 2 for x in py_list]"
   ],
   "metadata": {
    "collapsed": false,
    "pycharm": {
     "name": "#%%\n"
    }
   }
  },
  {
   "cell_type": "markdown",
   "source": [
    "Observe o tempo de execução da mesma operação com array numpy e python list"
   ],
   "metadata": {
    "collapsed": false
   }
  }
 ],
 "metadata": {
  "kernelspec": {
   "display_name": "Python 3",
   "language": "python",
   "name": "python3"
  },
  "language_info": {
   "codemirror_mode": {
    "name": "ipython",
    "version": 2
   },
   "file_extension": ".py",
   "mimetype": "text/x-python",
   "name": "python",
   "nbconvert_exporter": "python",
   "pygments_lexer": "ipython2",
   "version": "2.7.6"
  }
 },
 "nbformat": 4,
 "nbformat_minor": 0
}